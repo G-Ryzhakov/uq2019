{
 "cells": [
  {
   "cell_type": "markdown",
   "metadata": {},
   "source": [
    "# Table of contents"
   ]
  },
  {
   "cell_type": "markdown",
   "metadata": {},
   "source": [
    "**Course instructor: **\n",
    "Ivan Oseledets\n",
    "\n",
    "** TAs:**\n",
    "Vitaly Zankin, Gleb Ryzhakov"
   ]
  },
  {
   "cell_type": "markdown",
   "metadata": {},
   "source": [
    "| Week | Lecture notebooks | Supplementary materials | Homework | Tests |\n",
    "|:------:|:----------|:----------|:----------|-------|\n",
    "|1| [General info](lectures/lecture-0.ipynb)  <br> [Lecture 1 (Introduction to uncertainty quantification)](lectures/lecture-1.ipynb) <br> [Lecture 2 (UQ propagation using sampling methods)](lectures/lecture-2.ipynb) ||||\n",
    "|2|[Lecture 3 (UQ propagation: variance reduction and Latin-Hypercube designs)](lectures/lecture-3.ipynb) <br>[Lecture 4 (Polynomial chaos methods)](lectures/lecture-4.ipynb) || [Problem set 1](homeworks/homework_01.ipynb) | |\n",
    "|3| [Lecture 5 (Stochastic Galerkin Method, Stochastic Collocation Method)](./lectures/lecture-5.ipynb) <br>[Lecture 6 (Priors on function spaces. Gaussian Process regression. The Karhunen–Loève expansion)](./lectures/lecture-6.ipynb)      |  |  | |\n",
    "|4| [Lecture 7 (Global and local sensitivity analysis, Sobol' indices, PC-based Sobol' indices)](./lectures/lecture-7.ipynb)    || [Problem set 2](homeworks/homework_02.ipynb) || \n",
    "|5| [Lecture 8 (Inverse problems)](lectures/lecture-8.ipynb), <br> [Lecture 9 (Advanced topics: Markov Chain Monte Carlo methods for UQ. High-dimensional uncertainty quantification.)](lectures/lecture-9.ipynb) |  | | | "
   ]
  }
 ],
 "metadata": {
  "anaconda-cloud": {},
  "kernelspec": {
   "display_name": "Python 3",
   "language": "python",
   "name": "python3"
  },
  "language_info": {
   "codemirror_mode": {
    "name": "ipython",
    "version": 3
   },
   "file_extension": ".py",
   "mimetype": "text/x-python",
   "name": "python",
   "nbconvert_exporter": "python",
   "pygments_lexer": "ipython3",
   "version": "3.6.5"
  },
  "nav_menu": {},
  "toc": {
   "navigate_menu": true,
   "number_sections": true,
   "sideBar": true,
   "threshold": 6,
   "toc_cell": false,
   "toc_section_display": "block",
   "toc_window_display": false
  },
  "varInspector": {
   "cols": {
    "lenName": 16,
    "lenType": 16,
    "lenVar": 40
   },
   "kernels_config": {
    "python": {
     "delete_cmd_postfix": "",
     "delete_cmd_prefix": "del ",
     "library": "var_list.py",
     "varRefreshCmd": "print(var_dic_list())"
    },
    "r": {
     "delete_cmd_postfix": ") ",
     "delete_cmd_prefix": "rm(",
     "library": "var_list.r",
     "varRefreshCmd": "cat(var_dic_list()) "
    }
   },
   "types_to_exclude": [
    "module",
    "function",
    "builtin_function_or_method",
    "instance",
    "_Feature"
   ],
   "window_display": false
  }
 },
 "nbformat": 4,
 "nbformat_minor": 1
}
