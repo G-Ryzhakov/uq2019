{
 "cells": [
  {
   "cell_type": "markdown",
   "metadata": {},
   "source": [
    "# Table of contents"
   ]
  },
  {
   "cell_type": "markdown",
   "metadata": {},
   "source": [
    "**Course instructors:**\n",
    "Ivan Oseledets, Maxim Panov, Gleb Ryzhakov\n",
    "\n",
    "**TA:**\n",
    "Gleb Karpov"
   ]
  },
  {
   "cell_type": "markdown",
   "metadata": {},
   "source": [
    "| Week | Lecture notebooks | Supplementary materials | Homework | Tests |\n",
    "|:----:|:------------------|:------------------------|:---------|-------|\n",
    "|1|[General info](lectures/lecture-0.ipynb)  <br> [Lecture 1 (Introduction to uncertainty quantification)](lectures/lecture-1.ipynb) <br> [Lecture 2 (UQ propagation using sampling methods)](lectures/lecture-2.ipynb) |&nbsp;| [Homework 1](homeworks/homework_01.ipynb)\n",
    "|2|[Lecture 3 (Variance reduction method)](lectures/lecture-3.ipynb)<BR>[Lecture 4 (Polynomial Chaos methods)](lectures/lecture-4.ipynb) ||\n",
    "|3|[Lecture 4 (Priors on function spaces. Gaussian Process regression. The Karhunen–Loève expansion)](lectures/lecture-4.ipynb)<BR>[Lecture 5 (Learning hyperparameters for GP. Active Learning)](lectures/lecture-5.ipynb) ||\n",
    "|4|[Lecture 6 (Bayesian Optimization)](lectures/lecture-6.ipynb), [Lecture 7 (Global and local sensitivity analysis, Sobol' indices, PC-based Sobol' indices)](lectures/lecture-7.ipynb), <BR>[Lecture 8 (Stochastic Galerkin Method. Stochastic Collocation Method)](lectures/lecture-8.ipynb) ||\n",
    "    "
   ]
  }
 ],
 "metadata": {
  "anaconda-cloud": {},
  "kernelspec": {
   "display_name": "Python 3",
   "language": "python",
   "name": "python3"
  },
  "language_info": {
   "codemirror_mode": {
    "name": "ipython",
    "version": 3
   },
   "file_extension": ".py",
   "mimetype": "text/x-python",
   "name": "python",
   "nbconvert_exporter": "python",
   "pygments_lexer": "ipython3",
   "version": "3.6.5"
  },
  "nav_menu": {},
  "toc": {
   "navigate_menu": true,
   "number_sections": true,
   "sideBar": true,
   "threshold": 6,
   "toc_cell": false,
   "toc_section_display": "block",
   "toc_window_display": false
  },
  "varInspector": {
   "cols": {
    "lenName": 16,
    "lenType": 16,
    "lenVar": 40
   },
   "kernels_config": {
    "python": {
     "delete_cmd_postfix": "",
     "delete_cmd_prefix": "del ",
     "library": "var_list.py",
     "varRefreshCmd": "print(var_dic_list())"
    },
    "r": {
     "delete_cmd_postfix": ") ",
     "delete_cmd_prefix": "rm(",
     "library": "var_list.r",
     "varRefreshCmd": "cat(var_dic_list()) "
    }
   },
   "types_to_exclude": [
    "module",
    "function",
    "builtin_function_or_method",
    "instance",
    "_Feature"
   ],
   "window_display": false
  }
 },
 "nbformat": 4,
 "nbformat_minor": 1
}
