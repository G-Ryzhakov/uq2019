{
 "cells": [
  {
   "cell_type": "markdown",
   "metadata": {},
   "source": [
    "# Homework 1 (80 pts)\n",
    "\n",
    "Problems have different cost.\n",
    "\n",
    "Write your answers in jupyter notebook format using $\\LaTeX$ capabilities **(strongly recommended)** (or just simple ```tex``` manuscript, **less recommended**), or write it down on the paper, scan it and submit **(not recommended)**. A python code should be implemented in jupyter notebook format."
   ]
  },
  {
   "cell_type": "markdown",
   "metadata": {},
   "source": [
    "## Problem 1 (14 pts)\n",
    "\n",
    "Let $\\xi$ be some random variable with CDF $F(x)$.\n",
    "-  **(10 pts)**. In which cases the random variable\n",
    "$$\n",
    "\\eta =F(\\xi)\n",
    "$$\n",
    "has uniform distribution ($\\eta\\sim \\mathcal U(0,1)$)?\n",
    "Prove your answer.\n",
    "-  **(4 pts)**. Prove that in all other cases the statment does not hold (or that there are not other cases)."
   ]
  },
  {
   "cell_type": "markdown",
   "metadata": {},
   "source": [
    "## Problem 2 (23 pts)\n",
    "Consider the random variable $\\xi$ which is generated as follows.\n",
    "\n",
    "Another random variable $\\eta$ which has discrete distribution\n",
    "\n",
    "\n",
    "|r.v. $\\eta$||1|2|3|\n",
    "|----|---|----|---|\n",
    "|probability $p$||0.2|0.3|0.5|\n",
    "\n",
    "is sampled.\n",
    "\n",
    "If the value of $\\eta$ equals $1$ then $\\xi$ is sampled uniformly from the interval $(-1,0)$.<br>\n",
    "If the value of $\\eta$ equals $2$ then $\\xi$ is sampled uniformly from the interval $(1,3)$.<br>\n",
    "If the value of $\\eta$ equals $3$ then $\\xi$ is taken as $2$ or $4$ with equal probability.\n",
    "\n",
    "* **(5 pts)**. Plot the CDF of the random variable $\\xi$.\n",
    "\n",
    "* **(8 pts)**. Write a Python function that returns an inverse value of CDF.\n",
    "\n",
    "* **(10 pts)**. Write python function to generate samples of $\\xi$ using *inverse sampling method*.\n",
    "\n"
   ]
  },
  {
   "cell_type": "markdown",
   "metadata": {},
   "source": [
    "## Problem 3 (18 pts)\n",
    "\n",
    "We can use the results of Problem 1 to check the distribution of the samples. Namely, if the set $\\{x_1,\\,x_2,\\,\\ldots,\\,x_n\\}$ is sampled from a general population with CDF $F(x)$, then $F(x_1),\\,F(x_2),\\,\\ldots,\\,F(x_n)$ are sampled uniformly and we can check this using empirical histogram.\n",
    "Consider the example with normal distribution $\\mathcal N(1, 3)$"
   ]
  },
  {
   "cell_type": "code",
   "execution_count": 1,
   "metadata": {},
   "outputs": [
    {
     "data": {
      "image/png": "[encoded data removed]",
      "text/plain": [
       "<matplotlib.figure.Figure at 0x113c86c88>"
      ]
     },
     "metadata": {},
     "output_type": "display_data"
    }
   ],
   "source": [
    "from scipy.stats import norm\n",
    "import matplotlib.pyplot as plt\n",
    "%matplotlib inline\n",
    "\n",
    "n = int(1e5)\n",
    "samples = norm.rvs(loc=1, scale=3, size=n)\n",
    "samples_inv = norm.cdf(samples, loc=1, scale=3)\n",
    "\n",
    "_, (ax1, ax2) = plt.subplots(1, 2, figsize=(15,6))\n",
    "ax1.hist(samples    , bins='auto', density=True);\n",
    "ax1.set_title('Sample')\n",
    "ax2.hist(samples_inv, bins='auto', density=True);\n",
    "ax2.set_title('CDF transform applied to the sample');"
   ]
  },
  {
   "cell_type": "markdown",
   "metadata": {},
   "source": [
    "Now, consider a set of i.i.d. random variables $\\{\\xi_i\\}$, and a random variable $\\eta$ which is equal to an average over $M$ variables $\\{\\xi_i\\}$\n",
    "$$\n",
    "\\eta = \\frac1M\\sum_{i=1}^M\\xi_i.\n",
    "$$\n",
    "According to [Central limit theorem](https://en.wikipedia.org/wiki/Central_limit_theorem),\n",
    "the random variable $\\eta$ converges in distribution to a normal (recall the conditions of the corresponding statement). \n",
    "\n",
    "Make a sample of the variable $\\eta$ of a size $10^4$–$10^6$ for  different values of $M$, and show that the distribution of $\\eta$ is close to a normal with use of the method described above, for the following random variables $\\{\\xi_i\\}$\n",
    "\n",
    "* **(6 pts)**. Bernoulli distribution $\\mathbb P(\\xi=0)=\\frac13$, $\\mathbb P(\\xi=1)=\\frac23$.\n",
    "* **(6 pts)**. Distribution with CDF $F(x)=\\frac12\\bigl(1+\\text{Erf}(\\ln(x))\\bigr)$ for $x>0$ and  $F(x)=0$ otherwise, where $\\text{Erf}(x):=\\frac2{\\sqrt\\pi}\\int_0^x\\exp(-\\tau^2)\\,d\\tau$ is the [Error function](https://en.wikipedia.org/wiki/Error_function).\n",
    "* **(6 pts)**. Distribution with CDF $F(x)=1-\\frac1{x^2}$ for $x>1$ and $F(x)=0$ otherwise."
   ]
  },
  {
   "cell_type": "markdown",
   "metadata": {},
   "source": [
    "## Problem 4 (25 pts)\n",
    "\n",
    "This problem is a part of *density estimation* problem.\n",
    "We have a sample with unknown distribution and want to sample more.\n",
    "\n",
    "There are several ways to solve this problem.\n",
    "One of the way to sample is to approximate probability distribution by the histogram of the given sample with a fixed number of bins $n$.\n",
    "\n",
    "The samples for this task are in the file ```hw_01.data.npz```"
   ]
  },
  {
   "cell_type": "code",
   "execution_count": 2,
   "metadata": {},
   "outputs": [
    {
     "data": {
      "image/png": "[encoded data removed]",
      "text/plain": [
       "<matplotlib.figure.Figure at 0x10e9d8cc0>"
      ]
     },
     "metadata": {},
     "output_type": "display_data"
    }
   ],
   "source": [
    "import numpy as np\n",
    "samples = np.load('hw_01.data.npz')['samples']\n",
    "plt.hist(samples, bins=30, density=True);\n",
    "plt.xlabel('$x$');\n",
    "plt.ylabel('empirical probability');"
   ]
  },
  {
   "cell_type": "markdown",
   "metadata": {},
   "source": [
    "* **(10 pts)**. So, the first task is to write a Python function that sample random variable with the piecewise constant probability density function shown on the plot.\n",
    "Check the result by building empirical histogram for the sample for a different number of bins $n$.\n",
    "\n",
    "*Hint: use the Python code from the Lecture 2*\n",
    "\n",
    "The second way of solving the density estimation problem is to use [empirical distribution function](https://en.wikipedia.org/wiki/Empirical_distribution_function) $\\hat{F}$. This function is defined as\n",
    "$$\n",
    "\\hat F(x):=\\frac{\\#\\{x_i\\colon x_i\\leq x\\}}N,\n",
    "$$\n",
    "where $\\{x_i\\}_1^N$ are the sample set, $N$ is the total number of the elements in it.\n",
    "\n",
    "* **(10 pts)**. Write a python function to sample a random variable which has the CDF $\\hat F$ build on the sample from the file ```hw_01.data.npz```. Check the result by building empirical histogram.\n",
    "\n",
    "* **(5 pts)**. Explain the difference between these two ways of density estimation.<br> \n",
    "**NB:** (solution to this subproblem is counted only if two previous subproblems are done)."
   ]
  }
 ],
 "metadata": {
  "kernelspec": {
   "display_name": "Python 3",
   "language": "python",
   "name": "python3"
  },
  "language_info": {
   "codemirror_mode": {
    "name": "ipython",
    "version": 3
   },
   "file_extension": ".py",
   "mimetype": "text/x-python",
   "name": "python",
   "nbconvert_exporter": "python",
   "pygments_lexer": "ipython3",
   "version": "3.6.3"
  }
 },
 "nbformat": 4,
 "nbformat_minor": 2
}
