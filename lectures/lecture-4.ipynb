{
 "cells": [
  {
   "cell_type": "markdown",
   "metadata": {
    "slideshow": {
     "slide_type": "slide"
    }
   },
   "source": [
    "# Polynomial Chaos methods"
   ]
  },
  {
   "cell_type": "markdown",
   "metadata": {
    "slideshow": {
     "slide_type": "slide"
    }
   },
   "source": [
    "## Polynomial Chaos expansion "
   ]
  },
  {
   "cell_type": "markdown",
   "metadata": {
    "slideshow": {
     "slide_type": "slide"
    }
   },
   "source": [
    "### Generalized Polynomial Chaos\n",
    "\n",
    "Let $\\xi$ be a random variable with a distribution function $F$.\n",
    "\n",
    "The *generalized polynomial chaos* basis functions $\\{p_i\\}$ are the orthogonal polynomial functions satisfying\n",
    "$$\n",
    "\\mathbb E[p_n(\\xi)p_m(\\xi)]=\n",
    "\\int p_n(\\tau)p_m(\\tau)\\,\\text{d}F(\\tau)=\n",
    "\\delta_{nm}\\gamma_n.\n",
    "$$\n",
    "Here $\\gamma_n=\\mathbb E\\bigl[p_n^2(\\xi)\\bigr]$.\n",
    "\n",
    "If $\\xi$ is absolutely continuous, we have an (already known) relation for classical orthogonal polynomials\n",
    "$\n",
    "\\int p_n(\\tau)p_m(\\tau)\\rho(\\tau)\\,\\text{d}\\tau=\n",
    "\\delta_{nm}\\gamma_n.\n",
    "$\n",
    "\n",
    "In the case of discrete distribution, the orthogonality relation reads\n",
    "$$\n",
    "\\sum_ip_n(z_i)p_m(z_i)\\rho_i=\n",
    "\\delta_{nm}\\gamma_n.\n",
    "$$"
   ]
  },
  {
   "cell_type": "markdown",
   "metadata": {
    "slideshow": {
     "slide_type": "slide"
    }
   },
   "source": [
    "#### Correspondence between the Type of Generalized Polynomial Chaos and Their Underlying Random Variables\n",
    "\n",
    "|&nbsp;    |Distribution of $\\xi$|gPC basis polynomials|&nbsp;&nbsp;&nbsp;&nbsp;&nbsp;&nbsp;&nbsp;&nbsp;&nbsp;&nbsp;&nbsp;&nbsp;&nbsp;&nbsp;&nbsp;&nbsp;&nbsp;&nbsp;&nbsp;&nbsp;&nbsp;&nbsp;&nbsp;&nbsp;Support|\n",
    "|--------- |------------|---------------------|:-------|\n",
    "|Continuous|Gaussian|                               Hermite  |$(-\\infty,\\,+\\infty)$|\n",
    "|&nbsp;    |Gamma   |                               Laguerre |$[0,\\,+\\infty)$|\n",
    "|&nbsp;    |Beta    |                               Jacobi   |$[a,\\,b]$|\n",
    "|&nbsp;    |Uniform |                               Legendre |$[a,\\,b]$ |\n",
    "|Discrete  |Poisson |                               Charlier |$\\{0,\\,1,\\,2,\\,\\ldots\\}$|\n",
    "|&nbsp;    |Binomial|                              Krawtchouk|$\\{0,\\,1,\\,2,\\,\\ldots,\\,N\\}$|\n",
    "|&nbsp;    |Negative binomial|                        Meixner|$\\{0,\\,1,\\,2,\\,\\ldots\\}$|\n",
    "|&nbsp;    |Hypergeometric|                              Hahn|$\\{0,\\,1,\\,2,\\,\\ldots,\\,N\\}$|\n"
   ]
  },
  {
   "cell_type": "markdown",
   "metadata": {
    "slideshow": {
     "slide_type": "slide"
    }
   },
   "source": [
    "### Definition (Strong gPC approximation)\n",
    "\n",
    "\n",
    "_Let $f(\\xi)$ be a function of a random variable $\\xi$ whose probability distribution is $F$.\n",
    "A generalized polynomial chaos approximation in a strong sense is $f_N ∈ \\mathcal P_N$, where $\\mathcal P_N$ is the space of polynomials of degree up to $N$,\n",
    "such that $\\|f(\\xi)−f_N(\\xi)\\|→0$ as $N →∞$, in a proper norm._\n"
   ]
  },
  {
   "cell_type": "markdown",
   "metadata": {
    "slideshow": {
     "slide_type": "slide"
    }
   },
   "source": [
    "The example of strong gPC approximation is **orthogonal projection**.\n",
    "\n",
    "Let $L_2$ be a normed space of functions with the norm\n",
    "$$\n",
    "\\|f\\|_{L_2}^2=\\mathbb E\\left(f^2(\\xi)\\right).\n",
    "$$\n",
    "For any function $f\\in L_2$ we define its $N^\\text{th}$-degree gPC orthnogonal projection $\\text{Pr}_N$ as\n",
    "$$\n",
    "\\text{Pr}_N\\,f=\\sum_{k=0}^N\\hat f_kp_k(x),\\qquad\n",
    "\\hat f_k=\\frac1{\\gamma_k}\\mathbb E\\left(f(\\xi)p_k(\\xi)\\right)\n",
    "$$\n",
    "\n",
    "From the classical theory we know, that\n",
    "$$\n",
    "\\|f−\\text{Pr}_N\\,f\\|_{L_2}→0 \\,\\,\\text{ as }\\,\\, N →∞.\n",
    "$$\n",
    "(This convergence does not imply, of course, pointwise convergence).\n",
    "\n",
    "The following optimaliti property holds\n",
    "$$\n",
    "\\|f−\\text{Pr}_N\\,f\\|_{L_2}=\n",
    "\\inf_{g\\in \\mathcal P_N}\\|f−g\\|_{L_2}.\n",
    "$$\n"
   ]
  },
  {
   "cell_type": "markdown",
   "metadata": {
    "slideshow": {
     "slide_type": "slide"
    }
   },
   "source": [
    "What is the  approximation in a strong sense?\n",
    "\n",
    "The convergence in the strong norm implies convergence is probability\n",
    "$$\n",
    "f_N\\mathop{\\to}\\limits^{\\mathbb P} f\n",
    "$$\n",
    "which, in turn, implies the convergence in distribution\n",
    "$$\n",
    "f_N\\mathop{\\to}\\limits^d f.\n",
    "$$\n",
    "\n",
    "Informally speaking, the use of weight allows us to improve the approximation to the most probable values of the output, whereas the exact approximation at points, the probability of obtaining which is small, is not so important.\n"
   ]
  },
  {
   "cell_type": "markdown",
   "metadata": {
    "slideshow": {
     "slide_type": "slide"
    }
   },
   "source": [
    "Recall, that **convergence is probability**\n",
    "means that for all $\\varepsilon>0$\n",
    "$$\n",
    "\\mathbb P(\\left|f_N-f\\right|>\\varepsilon)\\to0,\\qquad N\\to\\infty,\n",
    "$$\n",
    "and **convergence in distribution** (or weak convergence) means that\n",
    "$$\n",
    "\\mathbb E[h(f_N)]\\to\\mathbb E[h(f)],\\qquad N\\to\\infty\n",
    "$$\n",
    "for all bounded and continuous functions $h$.\n",
    "Convergence in distribution\n",
    "holds if and only if for all continuous points $x$ of CDF $F_f(x)$ the relation\n",
    "$$\n",
    "F_{f_N}(x)\\to F_f(x)\n",
    "$$\n",
    "is satisfied.\n",
    "If $F_f$ is continuous, this is a uniform convergence."
   ]
  },
  {
   "cell_type": "markdown",
   "metadata": {
    "slideshow": {
     "slide_type": "slide"
    }
   },
   "source": [
    "#### Example (Lognornal r.v.)\n",
    "\n",
    "Let $\\eta=e^\\xi$,  where $\\xi\\sim\\mathcal N(\\mu, \\sigma)$.\n",
    "\n",
    "The distribution of $\\eta$ is a **lognormal distribution** whose support is on the nonnegative axis and is widely used in practice to model random variables not allowed to have negative values.\n",
    "\n",
    "Its probability density function is\n",
    "$$\n",
    "\\rho_\\eta(x)=\\frac1{x\\sigma\\sqrt{2\\pi}}\\exp\\left(-\\frac{(\\ln x-\\mu)^2}{2\\sigma^2}\\right).\n",
    "$$\n",
    "\n",
    "Let's obtain gPC projcetion of $\\eta$.\n",
    "\n",
    "If $\\theta\\sim\\mathcal N(0, 1)$ then\n",
    "$\\xi=\\mu+\\sigma\\theta$\n",
    "and\n",
    "$\n",
    "\\eta=f(\\theta)=e^\\mu e^{\\sigma\\theta}.\n",
    "$\n",
    "\n",
    "We will use the Hermite polynomials $\\{H_i\\}$ because of the normal distribution."
   ]
  },
  {
   "cell_type": "markdown",
   "metadata": {
    "slideshow": {
     "slide_type": "slide"
    }
   },
   "source": [
    "The coefficients of the expansion are\n",
    "$$\n",
    "\\hat f_k=\n",
    "\\frac1{\\gamma_k}e^\\mu\n",
    "\\int_{-\\infty}^{+\\infty}e^{\\sigma x}H_k(x)e^{-x^2/2}\\,dx=\n",
    "%\n",
    "\\frac1{\\gamma_k}e^\\mu e^{\\sigma^2/2}\n",
    "\\int_{-\\infty}^{+\\infty}H_k(x+\\sigma)e^{-x^2/2}\\,dx=\n",
    "$$\n",
    "$$\n",
    "\\frac1{\\gamma_k}e^{\\mu+\\sigma^2/2}\n",
    "\\int_{-\\infty}^{+\\infty}\\sum_{i=0}^k{k \\choose i}\\sigma^{k-i}H_i(x)e^{-x^2/2}\\,dx=\n",
    "e^{\\mu+\\sigma^2/2}\\frac{\\sigma^k}{k!}.\n",
    "$$\n",
    "\n",
    "So, we get an approximant\n",
    "$$\n",
    "\\text{Pr}_N\\eta(\\theta)=\n",
    "\\eta_N(\\theta)=e^{\\mu+\\sigma^2/2}\\sum_{k=0}^N\\frac{\\sigma^k}{k!}H_k(\\theta).\n",
    "$$\n"
   ]
  },
  {
   "cell_type": "markdown",
   "metadata": {
    "slideshow": {
     "slide_type": "slide"
    }
   },
   "source": [
    "### Definition  (Weak gPC approximation)\n",
    "\n",
    "Above, we need to know the function $f$ explicitly to find $\\hat f_k$ and the approximant that converges strongly.\n",
    "Sometimes, only the probability distribution of $f$ is known.\n",
    "We can still build the approximation, but it converges in a weak sense in this case.\n",
    "\n",
    "_Let $\\eta$ be a random variable with distribution function $F_\\eta(x) = \\mathbb P(\\eta ≤ x)$ and let $\\theta$ be a (standard) random variable in a set of gPC basis functions. A weak gPC approximation is $\\eta_N ∈ \\mathcal P_N(\\theta)$, where $\\mathcal P_N(\\theta)$ is the linear space of polynomials of $\\theta$ of degree up to N ≥ 0, such that $\\eta_N$ converges to $\\theta$ in a weak sense, e.g., in probability._\n",
    "\n",
    "The strong approximation implies weak, but not vise versa.\n"
   ]
  },
  {
   "cell_type": "markdown",
   "metadata": {
    "slideshow": {
     "slide_type": "slide"
    }
   },
   "source": [
    "#### Example (not uniqueness of weak approximation)\n",
    "\n",
    "Let $\\eta\\in\\mathcal N(\\mu,\\,\\sigma)$ be a r.v. with normal distribution.\n",
    "We take $\\theta\\in\\mathcal N(0,\\,1)$ and Hermit polynomials as a basis.\n",
    "The first order expansion\n",
    "$$\n",
    "\\eta_1(\\theta)=\\mu H_0(\\theta)+\\sigma H_1(\\theta)=\\mu+\\sigma\\theta\n",
    "$$\n",
    "will have the same distribution as $\\eta$.\n",
    "Therefore, $\\eta_1(\\theta)$ can approximate the distribution of $\\eta$ *exactly*.\n",
    "But we cannot reproduce pathwise realizations of $\\eta$ via $\\eta_1(\\theta)$.\n",
    "The random variable \n",
    "$$\\tilde\\eta_1(\\theta)=\\mu-\\sigma\\theta\n",
    "$$\n",
    "has the same distribution as $\\eta$ either, but obviously different pathwise realizations from $\\eta_1(\\theta)$."
   ]
  },
  {
   "cell_type": "markdown",
   "metadata": {
    "slideshow": {
     "slide_type": "slide"
    }
   },
   "source": [
    "As a consequence, we cannot find the coefficients $a_k$ of the expansion \n",
    "$$\n",
    "\\sum_{i=0}^Na_kp_k(x)\n",
    "$$\n",
    "via mathematical expectation (as previous for $\\hat f_k$)\n",
    "$$\n",
    "a\\mathop{=}\\limits^{?}\n",
    "\\frac1{\\gamma_k}\\mathbb E[\\eta p_k(\\theta)]\n",
    "$$\n",
    "because this expectations can differ from one realization of $\\eta$ to another.\n",
    "\n",
    "To make this expectation unique we use the following trick.\n",
    "We will sample both $\\theta$ and $\\eta$ using the same underlying r.v. with uniform distribution (See Lecture 2 for the method of sampling a random variable with known CDF and for definition of $F^{-1}$).\n",
    "Namely, let $\\xi\\sim\\mathcal U(0,\\,1)$ and let\n",
    "$$\n",
    "\\theta=F^{-1}_{\\theta}(\\xi),\\qquad\n",
    "\\eta=F^{-1}_{\\eta}(\\xi).\n",
    "$$\n",
    "Then\n",
    "$$\n",
    "a_k=\n",
    "\\frac1{\\gamma_k}\n",
    "\\mathbb E_{\\mathcal\\xi}\\left[F^{-1}_\\eta(\\xi)p_k(F^{-1}_\\theta(\\xi))\\right]=\n",
    "%\n",
    "\\frac1{\\gamma_k}\\int_0^1F^{-1}_\\eta(x)p_k(F^{-1}_\\theta(x))\\,\\text{d}x.\n",
    "$$\n"
   ]
  },
  {
   "cell_type": "markdown",
   "metadata": {
    "slideshow": {
     "slide_type": "slide"
    }
   },
   "source": [
    "We can even simplify the last formula in the case when $F_\\theta$ is continuous, which entails $F_\\theta(\\theta)\\sim\\mathcal  U(0,\\,1)$ and\n",
    "$$\n",
    "a_k=\n",
    "\\frac1{\\gamma_k}\n",
    "\\mathbb E_{\\mathcal\\theta}\\left[F^{-1}_\\eta(F_\\theta(\\theta))p_k(\\theta)\\right]=\n",
    "%\n",
    "\\frac1{\\gamma_k}\\int_{-\\infty}^{+\\infty} F^{-1}_\\eta(F_\\theta(x))p_k(x)\\,\\text{d}F_\\theta(x).\n",
    "$$\n",
    "\n",
    "This is the essence of the following<br>\n",
    "**Theorem.**\n",
    "*Let $\\eta$ be a random variable with CDF $F_\\eta(x)$ and $\\mathbb E[\\eta^2]<\\infty$.\n",
    "Let $\\theta$ be a random variable with continuous CDF $F_\\theta(x)$ and let $\\mathbb E\\left[\\left|\\theta\\right|^{2m}\\right]<\\infty$ for all $m\\in\\mathbb N_0$.\n",
    "Let \n",
    "$$\n",
    "\\eta_N=\\sum_{i=0}^Na_kp_k(\\theta)\n",
    "$$\n",
    "where $a_k$ are defined in the formula above on this slide.\n",
    "Then $\\eta_N$ converges to $\\eta$ in probability\n",
    "$$\n",
    "\\eta_N\\mathop\\to\\limits^{\\mathbb P}\\eta.\n",
    "$$*\n",
    "\n",
    "Also $\\eta_N\\mathop\\to\\limits^{d}\\eta$ in distribution.\n",
    "\n"
   ]
  },
  {
   "cell_type": "markdown",
   "metadata": {
    "slideshow": {
     "slide_type": "slide"
    }
   },
   "source": [
    "#### Example (Appriximating Beta wtih gPC Hermite exapansion in a weak sence)\n",
    "\n",
    "Let the probability distribution of $\\eta$ be a beta distribution with probability density function\n",
    "$$\n",
    "\\rho(x) =\\frac1{\\text{Beta}(\\alpha,\\beta)} x^{\\alpha-1}(1-x)^{\\beta-1}.\n",
    "$$\n",
    "Sure, we can choose Jacobi polynomials and there nothing to be approximate as the first-order polynomial will give the exact value.\n",
    "Bet let us approximate beta in terms of normal distribution $\\theta\\sim\\mathcal N(0,1)$. \n"
   ]
  },
  {
   "cell_type": "code",
   "execution_count": 1,
   "metadata": {
    "slideshow": {
     "slide_type": "slide"
    }
   },
   "outputs": [
    {
     "data": {
      "image/png": "[encoded data removed]",
      "text/plain": [
       "<Figure size 432x288 with 1 Axes>"
      ]
     },
     "metadata": {
      "needs_background": "light"
     },
     "output_type": "display_data"
    }
   ],
   "source": [
    "import numpy as np\n",
    "import matplotlib.pyplot as plt\n",
    "%matplotlib inline\n",
    "from scipy.stats import beta, norm\n",
    "\n",
    "alpha_param = 3.0\n",
    "beta_param  = 1.0\n",
    "\n",
    "x = np.linspace(-0.5, 1.5, 2**10)\n",
    "beta_rho = beta.pdf(x, a=alpha_param, b=beta_param)\n",
    "plt.plot(x, beta_rho);\n",
    "plt.title(r'PDF of beta distribution, $\\alpha={}$, $\\beta={}$'.format(alpha_param, beta_param));"
   ]
  },
  {
   "cell_type": "code",
   "execution_count": 2,
   "metadata": {
    "slideshow": {
     "slide_type": "slide"
    }
   },
   "outputs": [],
   "source": [
    "from numpy.polynomial.hermite import hermval\n",
    "\n",
    "# norm of H_k\n",
    "gamma = np.empty(20)\n",
    "for i in range(len(gamma)):\n",
    "    gamma[i] = np.math.factorial(i)\n",
    "\n",
    "# H_k itself\n",
    "def p_herm(x, n):\n",
    "    \"\"\"\n",
    "    RETURNS H_n(x)\n",
    "    value of non-normalized Probabilistic polynomials\n",
    "    \"\"\"\n",
    "    cf = np.zeros(n+1)\n",
    "    cf[n] = 1\n",
    "    return (2**(-float(n)*0.5))*hermval(x/np.sqrt(2.0), cf)\n"
   ]
  },
  {
   "cell_type": "code",
   "execution_count": 3,
   "metadata": {
    "slideshow": {
     "slide_type": "slide"
    }
   },
   "outputs": [
    {
     "name": "stdout",
     "output_type": "stream",
     "text": [
      "Coefficients a_k are built\n"
     ]
    }
   ],
   "source": [
    "from scipy.integrate import quad\n",
    "\n",
    "F_eta_inv = lambda x : beta.ppf(x, a=alpha_param, b=beta_param)\n",
    "rho_theta = lambda x : norm.pdf(x)\n",
    "F_theta = lambda x : norm.cdf(x)\n",
    "\n",
    "def calc_a_k(num=10):\n",
    "    a_k = np.zeros(num)\n",
    "    for i in range(len(a_k)):\n",
    "        a_k[i] = 1.0/gamma[i]*\\\n",
    "        quad(lambda x : F_eta_inv(F_theta(x))*p_herm(x, i)*rho_theta(x), -np.inf, np.inf)[0]\n",
    "    return a_k\n",
    "\n",
    "a_k = calc_a_k()\n",
    "\n",
    "print('Coefficients a_k are built')"
   ]
  },
  {
   "cell_type": "markdown",
   "metadata": {
    "slideshow": {
     "slide_type": "slide"
    }
   },
   "source": [
    "We have calculated coefficients $a_k$ using ```scipy.integrate```.\n",
    "Now, we will compare the exact distribution of r.v. $\\eta$ (beta distribution) and the distribution of the approximant $\\eta_N$ with different number of terms in the expansion.\n",
    "\n",
    "To plot the distribution of $\\eta_N$ we will use Monte-Carlo simulation, and therefore this distribution will be empirical. But if the number of Monte-Carlo simulations is large ($\\sim10^6$) the difference with the exact value of PDF of $\\eta_N$ is not significant."
   ]
  },
  {
   "cell_type": "code",
   "execution_count": 4,
   "metadata": {
    "slideshow": {
     "slide_type": "slide"
    }
   },
   "outputs": [
    {
     "name": "stdout",
     "output_type": "stream",
     "text": [
      "Empirical pdf is built\n"
     ]
    }
   ],
   "source": [
    "# Build the approximant\n",
    "def eta_N(N, x):\n",
    "    res = np.zeros_like(x)\n",
    "    for i in range(N):\n",
    "        res += a_k[i]*p_herm(x, i)\n",
    "        \n",
    "    return res\n",
    "\n",
    "def calc_empirical_pdf(mc_N = int(1e6), max_pow = 9):\n",
    "    rand_sample = np.random.randn(mc_N)\n",
    "    empirical_pdf = np.empty((max_pow, mc_N))\n",
    "    for i in range(max_pow):\n",
    "        empirical_pdf[i, ...] = eta_N(i, rand_sample)\n",
    "        \n",
    "    return empirical_pdf\n",
    "\n",
    "empirical_pdf = calc_empirical_pdf()\n",
    "\n",
    "def plot_approx(N=5):\n",
    "    plt.plot(x, beta_rho, label='True PDF');\n",
    "    plt.hist(empirical_pdf[N], bins=100, density=True, range=(-0.5, 1.5), histtype='step', label='Approx. empirical PDF');\n",
    "    plt.legend(loc='upper left');\n",
    "    plt.title('Number of terms in expansion = {}'.format(N));\n",
    "    \n",
    "from ipywidgets import interact, fixed, widgets\n",
    "\n",
    "print('Empirical pdf is built')"
   ]
  },
  {
   "cell_type": "code",
   "execution_count": 5,
   "metadata": {
    "slideshow": {
     "slide_type": "slide"
    }
   },
   "outputs": [
    {
     "data": {
      "application/vnd.jupyter.widget-view+json": {
       "model_id": "2b0fde584cca4ade97b377ba278c86fd",
       "version_major": 2,
       "version_minor": 0
      },
      "text/plain": [
       "aW50ZXJhY3RpdmUoY2hpbGRyZW49KEludFNsaWRlcih2YWx1ZT0yLCBjb250aW51b3VzX3VwZGF0ZT1GYWxzZSwgZGVzY3JpcHRpb249dScjIG9mIHRlcm1zIChOKScsIG1heD04LCBtaW49MSnigKY=\n"
      ]
     },
     "metadata": {},
     "output_type": "display_data"
    }
   ],
   "source": [
    "interact(plot_approx,  \n",
    "         N=widgets.IntSlider(min=1,max=8,step=1,value=2,continuous_update=False,description='# of terms (N)'));"
   ]
  },
  {
   "cell_type": "markdown",
   "metadata": {
    "slideshow": {
     "slide_type": "slide"
    }
   },
   "source": [
    "We will repeat the calculation for the case $\\alpha=1$ and $\\beta=1$.\n",
    "Beta distribution becomes uniform distribution with this set of parameters."
   ]
  },
  {
   "cell_type": "code",
   "execution_count": 6,
   "metadata": {
    "slideshow": {
     "slide_type": "slide"
    }
   },
   "outputs": [
    {
     "data": {
      "image/png": "[encoded data removed]",
      "text/plain": [
       "<Figure size 432x288 with 1 Axes>"
      ]
     },
     "metadata": {
      "needs_background": "light"
     },
     "output_type": "display_data"
    }
   ],
   "source": [
    "alpha_param = 1.0\n",
    "beta_param  = 1.0\n",
    "\n",
    "x = np.linspace(-0.5, 1.5, 2**10)\n",
    "beta_rho = beta.pdf(x, a=alpha_param, b=beta_param)\n",
    "plt.plot(x, beta_rho);\n",
    "plt.title(r'PDF of beta distribution, $\\alpha={}$, $\\beta={}$'.format(alpha_param, beta_param));"
   ]
  },
  {
   "cell_type": "code",
   "execution_count": 7,
   "metadata": {
    "slideshow": {
     "slide_type": "slide"
    }
   },
   "outputs": [
    {
     "name": "stdout",
     "output_type": "stream",
     "text": [
      "Coefficients a_k are built\n",
      "Empirical pdf is built\n"
     ]
    }
   ],
   "source": [
    "F_eta_inv = lambda x : beta.ppf(x, a=alpha_param, b=beta_param)\n",
    "\n",
    "a_k = calc_a_k()\n",
    "print('Coefficients a_k are built')\n",
    "\n",
    "empirical_pdf = calc_empirical_pdf()\n",
    "print('Empirical pdf is built')"
   ]
  },
  {
   "cell_type": "code",
   "execution_count": 8,
   "metadata": {
    "slideshow": {
     "slide_type": "slide"
    }
   },
   "outputs": [
    {
     "data": {
      "application/vnd.jupyter.widget-view+json": {
       "model_id": "fdab2bf3f1b848d1a085449068b9a686",
       "version_major": 2,
       "version_minor": 0
      },
      "text/plain": [
       "aW50ZXJhY3RpdmUoY2hpbGRyZW49KEludFNsaWRlcih2YWx1ZT0yLCBjb250aW51b3VzX3VwZGF0ZT1GYWxzZSwgZGVzY3JpcHRpb249dScjIG9mIHRlcm1zIChOKScsIG1heD04LCBtaW49MSnigKY=\n"
      ]
     },
     "metadata": {},
     "output_type": "display_data"
    }
   ],
   "source": [
    "interact(plot_approx,  \n",
    "         N=widgets.IntSlider(min=1,max=8,step=1,value=2,continuous_update=False,description='# of terms (N)'));"
   ]
  },
  {
   "cell_type": "markdown",
   "metadata": {
    "slideshow": {
     "slide_type": "slide"
    }
   },
   "source": [
    "We can see, that even with a rather large number of terms in expansion we have artefacts near the ends of the interval. It is so called [Gibbs phenomenon](https://en.wikipedia.org/wiki/Gibbs_phenomenon).\n",
    "\n",
    "You can reproduce this effect by expanding the PDF of uniform distribution in a Fourier series and plot a sum of a finite number of terms."
   ]
  },
  {
   "cell_type": "markdown",
   "metadata": {
    "slideshow": {
     "slide_type": "slide"
    }
   },
   "source": [
    "### Polynomial chaos in multivariate case\n",
    "\n",
    "Let the input r.v. $\\theta$ be a random $d$-dimensional vector, not a scalar\n",
    "$$\n",
    "\\theta=(\\theta_1,\\,\\theta_2,\\,\\ldots,\\,\\theta_d)\n",
    "$$\n",
    "and we assume, that its components are independent (but not necessary identically distributed in general).\n",
    "\n",
    "The multivariate CDF is\n",
    "$$\n",
    "F_\\theta(x_1,\\,x_2,\\,\\ldots,\\,x_d)=\n",
    "\\prod_{i=1}^dF_{\\theta_i}(x_i).\n",
    "$$\n",
    "\n",
    "We take a product of polynomials of one variable as a basis functions $P_i$\n",
    "$$\n",
    "P_{i}(\\theta)=p_{i_1}(\\theta_1)p_{i_2}(\\theta_2)\\cdots p_{i_d}(\\theta_d).\n",
    "$$\n",
    "\n",
    "the mathematical expectation is calculated independently for each component."
   ]
  },
  {
   "cell_type": "markdown",
   "metadata": {
    "slideshow": {
     "slide_type": "slide"
    }
   },
   "source": [
    "Here $i$ is a multiindex\n",
    "$$\n",
    "i=(i_1,\\,i_2,\\,\\ldots,\\,i_d).\n",
    "$$\n",
    "\n",
    "But what is the meaning of $\\mathcal P_N$ now, and how to truncate an expansion, i.e. how to sort $i$?\n",
    "\n",
    "One  of the strategy is to use maximum of components of $i$ — $\\max_ki_k$ as a sort key which means sort the basis polynomial according to maximum monomial power.\n",
    "If we take $N$ as a maximum power, then the dimension of the polynomials space $\\mathcal P_N$ will be $N^d$.  \n",
    "\n",
    "But it is not a good idea as\n",
    "the complexity of a multidimensional polynomial depends more on the total degree of monomials in it rather than on the maximum power of each monomial. \n",
    "\n",
    "So, another idea is to use a sum $\\sum_{i=k}^di_k$ of all components of $i$ as a sorting criterion.\n",
    "The dimension of $\\mathcal P_N$ is ${N+d\\choose N}$ in this case. \n",
    "\n",
    "Let us illustrate both this methods in 2D case."
   ]
  },
  {
   "cell_type": "code",
   "execution_count": 9,
   "metadata": {
    "slideshow": {
     "slide_type": "slide"
    }
   },
   "outputs": [],
   "source": [
    "q = 6\n",
    "sz = 10\n",
    "rng = np.arange(sz)\n",
    "i, j = np.meshgrid(rng, rng)\n",
    "A_max_pow = (np.maximum.reduce((i,j)) <= q).astype(int)\n",
    "A_sum_pow = (i + j <= q).astype(int)"
   ]
  },
  {
   "cell_type": "code",
   "execution_count": 10,
   "metadata": {
    "slideshow": {
     "slide_type": "slide"
    }
   },
   "outputs": [
    {
     "data": {
      "image/png": "[encoded data removed]",
      "text/plain": [
       "<Figure size 1080x432 with 2 Axes>"
      ]
     },
     "metadata": {
      "needs_background": "light"
     },
     "output_type": "display_data"
    }
   ],
   "source": [
    "_, (ax1, ax2) = plt.subplots(1, 2, figsize=(15, 6))\n",
    "ax1.imshow(A_max_pow, origin='lower', interpolation=None, cmap='Blues');\n",
    "ax1.set_title('Max monomial power = {}'.format(q))\n",
    "ax1.set_xlabel('$i_1$')\n",
    "ax1.set_ylabel('$i_2$')\n",
    "ax2.imshow(A_sum_pow, origin='lower', interpolation=None, cmap='Blues');\n",
    "ax2.set_title('Max power sum = {}'.format(q));\n",
    "ax2.set_xlabel('$i_1$')\n",
    "ax2.set_ylabel('$i_2$');"
   ]
  },
  {
   "cell_type": "markdown",
   "metadata": {
    "slideshow": {
     "slide_type": "slide"
    }
   },
   "source": [
    "The extension of the latter is the so-called **hyperbolic truncation scheme**.\n",
    "In this scheme we use the following condition to select indices\n",
    "$$\n",
    "i_1^r+i_2^r+\\cdots+i_d^r\\leq N^r.\n",
    "$$\n",
    "Here $r\\in(0,1]$ is a parameter of the scheme.\n",
    "In the case $r=1$ this is the simple maximum degree scheme. \n",
    "\n",
    "The advantages of this scheme are manifested on large dimensions, when it is necessary to choose a small number of basis polynomials.\n",
    "For example, let $d=50$. \n",
    "If we use max component scheme ($\\max_ki_k$), we can get one (trivial) basis function in the case of $N=0$ and $50^2=2500$ in the case $N=1$.\n",
    "In contrast, let $r=0.3$ in hyperbolic truncation scheme, then we get $N=101$ number of basis functions; $N=151$ for $q=2$ and so on.\n",
    "\n",
    "In the case of simple max power scheme ($r=1$) the situation is a little  better than in max component scheme, we have $N=1+{50\\choose1}={51\\choose50}=51$ when $q=1$ and $N=1+{50\\choose1}+2{50\\choose2}={52\\choose50}=1326$ when $q=2$. But the gap between this two numbers is large.\n",
    "\n",
    "Let us illustrate hyperbolic truncation scheme."
   ]
  },
  {
   "cell_type": "code",
   "execution_count": 11,
   "metadata": {
    "slideshow": {
     "slide_type": "slide"
    }
   },
   "outputs": [],
   "source": [
    "def plot_HTS_matrix(q=2, r=1):\n",
    "    sz = 15\n",
    "    rng = np.arange(sz)\n",
    "    i, j = np.meshgrid(rng, rng)\n",
    "    A_HTS = (i**r + j**r <= q**r).astype(int)\n",
    "    \n",
    "    plt.imshow(A_HTS, origin='lower', interpolation=None, cmap='Blues');\n",
    "    plt.title('Max sum = {}, power = {}'.format(q, r))\n",
    "    plt.xlim([-0.5, sz - 0.5]) # bug in imshow\n",
    "    plt.ylim([-0.5, sz - 0.5])\n",
    "    plt.xlabel('$i_1$')\n",
    "    plt.ylabel('$i_2$')"
   ]
  },
  {
   "cell_type": "code",
   "execution_count": 12,
   "metadata": {
    "slideshow": {
     "slide_type": "slide"
    }
   },
   "outputs": [
    {
     "data": {
      "application/vnd.jupyter.widget-view+json": {
       "model_id": "39a6176a3f8a4f25a65fe1715c66d391",
       "version_major": 2,
       "version_minor": 0
      },
      "text/plain": [
       "aW50ZXJhY3RpdmUoY2hpbGRyZW49KEZsb2F0U2xpZGVyKHZhbHVlPTEwLjAsIGRlc2NyaXB0aW9uPXUncScsIG1heD0yMC4wLCBtaW49NC4wLCBzdGVwPTAuMjUpLCBGbG9hdFNsaWRlcih2YWzigKY=\n"
      ]
     },
     "metadata": {},
     "output_type": "display_data"
    }
   ],
   "source": [
    "interact(plot_HTS_matrix,  \n",
    "         q=widgets.FloatSlider(min=4,max=20,step=.25,value=10,continuous_update=True,description='q'),\n",
    "         r=widgets.FloatSlider(min=0,max=1,step=.1,value=0.6,continuous_update=True,description='r'));"
   ]
  },
  {
   "cell_type": "markdown",
   "metadata": {
    "slideshow": {
     "slide_type": "slide"
    }
   },
   "source": [
    "It is convenient to use a single index instead of multiindex in sums and other formulas.\n",
    "\n",
    "Denote $$|i|=\\sum_{l=1}^di_l^r.$$\n",
    "\n",
    "For clarity we will show a correspondence between multiindex $i$ and a single index $k$ as well as sorting strategy."
   ]
  },
  {
   "cell_type": "code",
   "execution_count": 13,
   "metadata": {
    "slideshow": {
     "slide_type": "slide"
    }
   },
   "outputs": [],
   "source": [
    "import itertools\n",
    "def indeces_K(d, N, r=1.0):\n",
    "    \"\"\"\n",
    "    returns all vectors of length l with sum of indices in power p <= q^p, starting form 0\n",
    "    x^p + y^p <= N^p\n",
    "    Elements can repeat!\n",
    "    \"\"\"\n",
    "    qp = N**r\n",
    "    m = int(qp) # max number of non-zero elements\n",
    "    for cmb in itertools.product(range(N+1), repeat=d):\n",
    "        if sum(np.array(cmb)**r) <= qp:\n",
    "            yield cmb\n",
    "            \n",
    "\n",
    "def indeces_K_cut(d, N, r=1.0, maxn=None):\n",
    "    a = indeces_K(d, N, r)\n",
    "    a = sorted(a, reverse=True)\n",
    "    a = [el for el, _ in itertools.groupby(a)] # delete duplicates\n",
    "    a = sorted(a, key=lambda e: max(e))\n",
    "    a = sorted(a, key=lambda e: np.sum( np.array(e)**r ))\n",
    "    if maxn is not None:\n",
    "        a = a[:maxn]\n",
    "    return a\n",
    "\n",
    "def abs_i(i, r=1):\n",
    "    return (np.array(i)**r).sum()\n",
    "\n",
    "idx = indeces_K_cut(3, 3)\n",
    "sum_pow = np.array([abs_i(i) for i in idx])\n",
    "k = np.arange(1, len(idx)+1)"
   ]
  },
  {
   "cell_type": "code",
   "execution_count": 14,
   "metadata": {
    "slideshow": {
     "slide_type": "slide"
    }
   },
   "outputs": [
    {
     "data": {
      "text/html": [
       "<div>\n",
       "<style scoped>\n",
       "    .dataframe tbody tr th:only-of-type {\n",
       "        vertical-align: middle;\n",
       "    }\n",
       "\n",
       "    .dataframe tbody tr th {\n",
       "        vertical-align: top;\n",
       "    }\n",
       "\n",
       "    .dataframe thead th {\n",
       "        text-align: right;\n",
       "    }\n",
       "</style>\n",
       "<table border=\"1\" class=\"dataframe\">\n",
       "  <thead>\n",
       "    <tr style=\"text-align: right;\">\n",
       "      <th></th>\n",
       "      <th>multiindex $i$</th>\n",
       "      <th>$|i|$</th>\n",
       "    </tr>\n",
       "    <tr>\n",
       "      <th>single index $k$</th>\n",
       "      <th></th>\n",
       "      <th></th>\n",
       "    </tr>\n",
       "  </thead>\n",
       "  <tbody>\n",
       "    <tr>\n",
       "      <th>1</th>\n",
       "      <td>(0, 0, 0)</td>\n",
       "      <td>0</td>\n",
       "    </tr>\n",
       "    <tr>\n",
       "      <th>2</th>\n",
       "      <td>(1, 0, 0)</td>\n",
       "      <td>1</td>\n",
       "    </tr>\n",
       "    <tr>\n",
       "      <th>3</th>\n",
       "      <td>(0, 1, 0)</td>\n",
       "      <td>1</td>\n",
       "    </tr>\n",
       "    <tr>\n",
       "      <th>4</th>\n",
       "      <td>(0, 0, 1)</td>\n",
       "      <td>1</td>\n",
       "    </tr>\n",
       "    <tr>\n",
       "      <th>5</th>\n",
       "      <td>(1, 1, 0)</td>\n",
       "      <td>2</td>\n",
       "    </tr>\n",
       "    <tr>\n",
       "      <th>6</th>\n",
       "      <td>(1, 0, 1)</td>\n",
       "      <td>2</td>\n",
       "    </tr>\n",
       "    <tr>\n",
       "      <th>7</th>\n",
       "      <td>(0, 1, 1)</td>\n",
       "      <td>2</td>\n",
       "    </tr>\n",
       "    <tr>\n",
       "      <th>8</th>\n",
       "      <td>(2, 0, 0)</td>\n",
       "      <td>2</td>\n",
       "    </tr>\n",
       "    <tr>\n",
       "      <th>9</th>\n",
       "      <td>(0, 2, 0)</td>\n",
       "      <td>2</td>\n",
       "    </tr>\n",
       "    <tr>\n",
       "      <th>10</th>\n",
       "      <td>(0, 0, 2)</td>\n",
       "      <td>2</td>\n",
       "    </tr>\n",
       "    <tr>\n",
       "      <th>11</th>\n",
       "      <td>(1, 1, 1)</td>\n",
       "      <td>3</td>\n",
       "    </tr>\n",
       "    <tr>\n",
       "      <th>12</th>\n",
       "      <td>(2, 1, 0)</td>\n",
       "      <td>3</td>\n",
       "    </tr>\n",
       "    <tr>\n",
       "      <th>13</th>\n",
       "      <td>(2, 0, 1)</td>\n",
       "      <td>3</td>\n",
       "    </tr>\n",
       "    <tr>\n",
       "      <th>14</th>\n",
       "      <td>(1, 2, 0)</td>\n",
       "      <td>3</td>\n",
       "    </tr>\n",
       "    <tr>\n",
       "      <th>15</th>\n",
       "      <td>(1, 0, 2)</td>\n",
       "      <td>3</td>\n",
       "    </tr>\n",
       "    <tr>\n",
       "      <th>16</th>\n",
       "      <td>(0, 2, 1)</td>\n",
       "      <td>3</td>\n",
       "    </tr>\n",
       "    <tr>\n",
       "      <th>17</th>\n",
       "      <td>(0, 1, 2)</td>\n",
       "      <td>3</td>\n",
       "    </tr>\n",
       "    <tr>\n",
       "      <th>18</th>\n",
       "      <td>(3, 0, 0)</td>\n",
       "      <td>3</td>\n",
       "    </tr>\n",
       "    <tr>\n",
       "      <th>19</th>\n",
       "      <td>(0, 3, 0)</td>\n",
       "      <td>3</td>\n",
       "    </tr>\n",
       "    <tr>\n",
       "      <th>20</th>\n",
       "      <td>(0, 0, 3)</td>\n",
       "      <td>3</td>\n",
       "    </tr>\n",
       "  </tbody>\n",
       "</table>\n",
       "</div>"
      ],
      "text/plain": [
       "                 multiindex $i$  $|i|$\n",
       "single index $k$                      \n",
       "1                     (0, 0, 0)      0\n",
       "2                     (1, 0, 0)      1\n",
       "3                     (0, 1, 0)      1\n",
       "4                     (0, 0, 1)      1\n",
       "5                     (1, 1, 0)      2\n",
       "6                     (1, 0, 1)      2\n",
       "7                     (0, 1, 1)      2\n",
       "8                     (2, 0, 0)      2\n",
       "9                     (0, 2, 0)      2\n",
       "10                    (0, 0, 2)      2\n",
       "11                    (1, 1, 1)      3\n",
       "12                    (2, 1, 0)      3\n",
       "13                    (2, 0, 1)      3\n",
       "14                    (1, 2, 0)      3\n",
       "15                    (1, 0, 2)      3\n",
       "16                    (0, 2, 1)      3\n",
       "17                    (0, 1, 2)      3\n",
       "18                    (3, 0, 0)      3\n",
       "19                    (0, 3, 0)      3\n",
       "20                    (0, 0, 3)      3"
      ]
     },
     "execution_count": 14,
     "metadata": {},
     "output_type": "execute_result"
    }
   ],
   "source": [
    "import pandas as pd\n",
    "df = pd.DataFrame(index=k, data={'$|i|$': sum_pow, 'multiindex $i$': idx})\n",
    "df.index.name = 'single index $k$'\n",
    "df[['multiindex $i$', '$|i|$']]"
   ]
  },
  {
   "cell_type": "markdown",
   "metadata": {
    "slideshow": {
     "slide_type": "slide"
    }
   },
   "source": [
    "#### Statistical properties\n",
    "\n",
    "As was mentioned in Lecture 1, if we have a polynomial approximation in one variable of the another r.v. $\\eta$, we can easily obtain the mean and the variance of $\\eta$.\n",
    "\n",
    "The same relation has the same form in the multidimensional case.\n",
    "\n",
    "Let us consider a more complicated case, when there is a random process $f(t,\\,\\theta)$ that depends on time $t$, which we approximate by multivariate polynomials\n",
    "$$\n",
    "f(t,\\,\\theta)\\approx\n",
    "f_N(t,\\,\\theta)=\\sum_{|i|\\leq N}\\hat f_i(t)P_i(\\theta).\n",
    "$$"
   ]
  },
  {
   "cell_type": "markdown",
   "metadata": {
    "slideshow": {
     "slide_type": "slide"
    }
   },
   "source": [
    "Then the mean $\\mu(t)$ can be estimated as\n",
    "$$\n",
    "\\mu(t):=\\mathbb E_\\theta[f(t,\\,\\theta)]\\approx \\hat f_0(t),\n",
    "$$\n",
    "the variance\n",
    "$$\n",
    "\\mathop{\\text{Var}}f(t,\\,\\theta):=\\mathbb E_\\theta\\left[\\bigl(f(t,\\,\\theta)-\\mu(f)\\bigr)^2\\right]\\approx \\sum_{0<|i|\\leq N}\\gamma_i\\hat f_i^2(t),\n",
    "$$\n",
    "and the covariance of the process at different times $t_1$ and $t_2$\n",
    "$$\n",
    "C(t_1,\\,t_2):=\\mathbb E_\\theta\\bigl[\\bigl(f(t_1,\\,\\theta)-\\mu(t_1)\\bigr)\\bigl(f(t_2,\\,\\theta)-\\mu(t_2)\\bigr)\\bigr]\\approx\n",
    "\\sum_{0<|i|\\leq N}\\gamma_i\\hat f_i(t_1)\\hat f_i(t_2).\n",
    "$$\n"
   ]
  }
 ],
 "metadata": {
  "celltoolbar": "Slideshow",
  "kernelspec": {
   "display_name": "Python 2",
   "language": "python",
   "name": "python2"
  },
  "language_info": {
   "codemirror_mode": {
    "name": "ipython",
    "version": 2
   },
   "file_extension": ".py",
   "mimetype": "text/x-python",
   "name": "python",
   "nbconvert_exporter": "python",
   "pygments_lexer": "ipython2",
   "version": "2.7.15"
  },
  "varInspector": {
   "cols": {
    "lenName": 16,
    "lenType": 16,
    "lenVar": 40
   },
   "kernels_config": {
    "python": {
     "delete_cmd_postfix": "",
     "delete_cmd_prefix": "del ",
     "library": "var_list.py",
     "varRefreshCmd": "print(var_dic_list())"
    },
    "r": {
     "delete_cmd_postfix": ") ",
     "delete_cmd_prefix": "rm(",
     "library": "var_list.r",
     "varRefreshCmd": "cat(var_dic_list()) "
    }
   },
   "types_to_exclude": [
    "module",
    "function",
    "builtin_function_or_method",
    "instance",
    "_Feature"
   ],
   "window_display": false
  }
 },
 "nbformat": 4,
 "nbformat_minor": 2
}
