{
 "cells": [
  {
   "cell_type": "code",
   "execution_count": 1,
   "metadata": {
    "slideshow": {
     "slide_type": "skip"
    }
   },
   "outputs": [
    {
     "data": {
      "text/plain": [
       "{'theme': 'sky',\n",
       " 'transition': 'zoom',\n",
       " 'start_slideshow_at': 'selected',\n",
       " 'scroll': True}"
      ]
     },
     "execution_count": 1,
     "metadata": {},
     "output_type": "execute_result"
    }
   ],
   "source": [
    "from traitlets.config.manager import BaseJSONConfigManager\n",
    "#path = \"/home/damian/miniconda3/envs/rise_latest/etc/jupyter/nbconfig\"\n",
    "cm = BaseJSONConfigManager()\n",
    "cm.update('livereveal', {\n",
    "              'theme': 'sky',\n",
    "              'transition': 'zoom',\n",
    "              'start_slideshow_at': 'selected',\n",
    "              'scroll': True\n",
    "})"
   ]
  },
  {
   "cell_type": "markdown",
   "metadata": {
    "slideshow": {
     "slide_type": "slide"
    }
   },
   "source": [
    "# Lecture 1: Introduction to Uncertainty Quantification"
   ]
  },
  {
   "cell_type": "markdown",
   "metadata": {
    "slideshow": {
     "slide_type": "slide"
    }
   },
   "source": [
    "## Today\n",
    "- What is UQ? \n",
    "- polynomial approximation\n",
    "- parameters estimation"
   ]
  },
  {
   "cell_type": "markdown",
   "metadata": {
    "slideshow": {
     "slide_type": "slide"
    }
   },
   "source": [
    "## Uncertainty quantification\n",
    "\n",
    "<img src='entire_process.png'>"
   ]
  },
  {
   "cell_type": "markdown",
   "metadata": {
    "slideshow": {
     "slide_type": "slide"
    }
   },
   "source": [
    "## Uncertainty quantification\n",
    "\n",
    "Numerical simulations assume models of real world; these models pick **uncertainties**\n",
    "\n",
    "- In input variables: $Y = F(X + \\varepsilon)$\n",
    "- In output variables: $Y = F(X) + \\varepsilon$\n",
    "- Models are approximate\n"
   ]
  },
  {
   "cell_type": "markdown",
   "metadata": {
    "slideshow": {
     "slide_type": "slide"
    }
   },
   "source": [
    "## Forward and inverse problems\n",
    "\n",
    "UQ splits into two major branches: **forward** and **inverse** problems."
   ]
  },
  {
   "cell_type": "markdown",
   "metadata": {
    "slideshow": {
     "slide_type": "slide"
    }
   },
   "source": [
    "## Forward problems\n",
    "\n",
    "In the forward propagation of uncertainty, we have a known model F for a system of interest. \n",
    "We model its inputs $X$ as a random variable and wish to understand the output random variable \n",
    "$$Y = F(X)$$\n",
    "(also denoted $Y \\vert X$) and reads $Y$ given $X$. \n",
    "\n",
    "Also, this is related to **sensitivity analysis** (how random variations in $X$ influence variation in $Y$).\n",
    "\n",
    " \n"
   ]
  },
  {
   "cell_type": "markdown",
   "metadata": {
    "slideshow": {
     "slide_type": "slide"
    }
   },
   "source": [
    "## Inverse problems\n",
    "\n",
    "\n",
    "In inverse problems, $F$ is a forward model, but $Y$ is observed data, and we want to find the input data $X$ \n",
    "\n",
    "such that $F(X) = Y$, i.e. we want $X \\vert Y$ instead of $Y \\vert X$. \n",
    "\n",
    "Inverse problems are typically **ill-posed** in the usual sense, so we need an **expert** (or **prior**) \n",
    "about what a good solution $X$ might be.\n",
    "\n",
    "**Bayesian perspective** becomes the method of choice, but this requires the representation of high-dimensional distributions.\n",
    "\n",
    "$$p(X \\vert Y) = \\frac{p(Y \\vert X) p(X)}{p(Y)}.$$\n",
    "\n"
   ]
  },
  {
   "cell_type": "markdown",
   "metadata": {
    "slideshow": {
     "slide_type": "slide"
    }
   },
   "source": [
    "## Approximation of multivariate functions\n",
    "\n",
    "If we want to do efficient UQ (not only Monte-Carlo) we need efficient tools for the approximation of multivariate functions."
   ]
  },
  {
   "cell_type": "markdown",
   "metadata": {
    "cell_style": "center",
    "slideshow": {
     "slide_type": "slide"
    }
   },
   "source": [
    "Consider orthogonal polynomials $\\{p_n\\}$\n",
    "$$\n",
    "\\langle p_n,\\, p_m \\rangle = \\int_a^bp_n(x)p_m(x)w(x)\\,dx=\\delta_{nm}h_n.\n",
    "$$\n",
    " - Chebyshev polynomials of the first kind, $(a,\\,b)=(-1,\\,1)$, $w(x)=\\left(1-x^2\\right)^{-1/2}$\n",
    " - Hermite polynomials (mathematical or probabilistic), $(a,\\,b)=(-\\infty,\\,+\\infty)$, $w(x)=\\frac1{\\sqrt{2\\pi}}\\exp\\left(-x^2/2\\right)$"
   ]
  },
  {
   "cell_type": "code",
   "execution_count": 2,
   "metadata": {
    "cell_style": "center",
    "slideshow": {
     "slide_type": "slide"
    }
   },
   "outputs": [],
   "source": [
    "import numpy as np\n",
    "import matplotlib.pyplot as plt\n",
    "from numpy.polynomial import Chebyshev as T\n",
    "from numpy.polynomial.hermite import hermval\n",
    "%matplotlib inline\n",
    "\n",
    "def p_cheb(x, n):\n",
    "    \"\"\"\n",
    "    RETURNS T_n(x)\n",
    "    value of not normalized Chebyshev polynomials\n",
    "    $\\int \\frac1{\\sqrt{1-x^2}}T_m(x)T_n(x) dx = \\frac\\pi2\\delta_{nm}$\n",
    "    \"\"\"\n",
    "    return T.basis(n)(x)\n",
    "\n",
    "def p_herm(x, n):\n",
    "    \"\"\"\n",
    "    RETURNS H_n(x)\n",
    "    value of non-normalized Probabilistic polynomials\n",
    "    \"\"\"\n",
    "    cf = np.zeros(n+1)\n",
    "    cf[n] = 1\n",
    "    return (2**(-float(n)*0.5))*hermval(x/np.sqrt(2.0), cf)\n",
    "\n",
    "def system_mat(pnts, maxn, poly):\n",
    "    \"\"\"\n",
    "    RETURNS system matrix\n",
    "    \"\"\"\n",
    "    A = np.empty((pnts.size, maxn), dtype=float)\n",
    "    for i in range(maxn):\n",
    "        A[:, i] = poly(pnts, i)\n",
    "    return A"
   ]
  },
  {
   "cell_type": "code",
   "execution_count": 3,
   "metadata": {
    "slideshow": {
     "slide_type": "slide"
    }
   },
   "outputs": [
    {
     "data": {
      "image/png": "[encoded data removed]",
      "text/plain": [
       "<Figure size 432x288 with 1 Axes>"
      ]
     },
     "metadata": {},
     "output_type": "display_data"
    }
   ],
   "source": [
    "x = np.linspace(-1, 1, 1000)\n",
    "data = []\n",
    "for i in range(5):\n",
    "    data.append(x)\n",
    "    data.append(p_cheb(x, i))\n",
    "       \n",
    "\n",
    "plt.plot(*data)\n",
    "plt.legend([\"power = {}\".format(i) for i in range(len(data))]);"
   ]
  },
  {
   "cell_type": "code",
   "execution_count": 4,
   "metadata": {
    "slideshow": {
     "slide_type": "slide"
    }
   },
   "outputs": [
    {
     "data": {
      "image/png": "[encoded data removed]",
      "text/plain": [
       "<Figure size 432x288 with 1 Axes>"
      ]
     },
     "metadata": {},
     "output_type": "display_data"
    }
   ],
   "source": [
    "def complex_func(x):\n",
    "    return np.sin(2.0*x*np.pi)*np.cos(0.75*(x+0.3)*np.pi)\n",
    "\n",
    "plt.plot(x, complex_func(x));"
   ]
  },
  {
   "cell_type": "markdown",
   "metadata": {
    "slideshow": {
     "slide_type": "slide"
    }
   },
   "source": [
    "Now, let's approximate the function with polynomials taking different maximal power $n$ and the corresponding number of node points\n",
    "$$\n",
    "f(x)\\approx\\hat f(x)=\\sum_{i=0}^n\\alpha_i p_i(x)\n",
    "$$"
   ]
  },
  {
   "cell_type": "code",
   "execution_count": 5,
   "metadata": {
    "slideshow": {
     "slide_type": "slide"
    }
   },
   "outputs": [
    {
     "name": "stdout",
     "output_type": "stream",
     "text": [
      "α = [ 0.14310061 -0.43250604  0.20112419 -0.25853987 -0.3442248   0.69104591]\n"
     ]
    }
   ],
   "source": [
    "n = 6\n",
    "M = n\n",
    "nodes = np.linspace(-1, 1, M)\n",
    "RH = complex_func(nodes)\n",
    "A = system_mat(nodes, n, p_cheb)\n",
    "if n == M:\n",
    "    alpha = np.linalg.solve(A, RH)\n",
    "else:\n",
    "    alpha = np.linalg.lstsq(A, RH)[0]\n",
    "print(\"α = {}\".format(alpha))"
   ]
  },
  {
   "cell_type": "code",
   "execution_count": 7,
   "metadata": {
    "slideshow": {
     "slide_type": "slide"
    }
   },
   "outputs": [],
   "source": [
    "def calc_approximant(poly, alpha, x):\n",
    "    \"\"\"\n",
    "    RETURNS values of approximant in points x\n",
    "    \"\"\"\n",
    "    n = len(alpha)\n",
    "    y = np.zeros_like(x)\n",
    "    for i in range(n):\n",
    "        y[...] += poly(x, i)*alpha[i]\n",
    "        \n",
    "    return y"
   ]
  },
  {
   "cell_type": "code",
   "execution_count": 8,
   "metadata": {
    "slideshow": {
     "slide_type": "slide"
    }
   },
   "outputs": [
    {
     "data": {
      "image/png": "[encoded data removed]",
      "text/plain": [
       "<Figure size 432x288 with 1 Axes>"
      ]
     },
     "metadata": {},
     "output_type": "display_data"
    }
   ],
   "source": [
    "y = complex_func(x)\n",
    "approx_y = calc_approximant(p_cheb, alpha, x)\n",
    "plt.plot(x, y, x, approx_y, nodes, RH, 'ro');"
   ]
  },
  {
   "cell_type": "markdown",
   "metadata": {
    "slideshow": {
     "slide_type": "slide"
    }
   },
   "source": [
    "Approximate value of the error\n",
    "$$\n",
    "\\varepsilon=\n",
    "\\|f-\\hat f\\|_\\infty\\approx\\max_{x\\in \\mathcal X}\\bigl|f(x)-\\hat f(x)\\bigr|\n",
    "$$"
   ]
  },
  {
   "cell_type": "code",
   "execution_count": 9,
   "metadata": {
    "slideshow": {
     "slide_type": "slide"
    }
   },
   "outputs": [
    {
     "name": "stdout",
     "output_type": "stream",
     "text": [
      "ε = 1.2986238408482182\n"
     ]
    }
   ],
   "source": [
    "epsilon = np.linalg.norm(y - approx_y, np.inf)\n",
    "print(\"ε = {}\".format(epsilon))"
   ]
  },
  {
   "cell_type": "markdown",
   "metadata": {
    "slideshow": {
     "slide_type": "slide"
    }
   },
   "source": [
    "If we take another set of polynomials, the result of the approximation will be the same (coefficients $\\alpha$ will be different of course)."
   ]
  },
  {
   "cell_type": "code",
   "execution_count": 10,
   "metadata": {
    "slideshow": {
     "slide_type": "slide"
    }
   },
   "outputs": [
    {
     "name": "stdout",
     "output_type": "stream",
     "text": [
      "α = [ -5.50759675 125.08412934 -13.36674349  95.71226857  -2.75379837\n",
      "  11.05673463]\n",
      "ε = 1.2986238408482218\n"
     ]
    },
    {
     "data": {
      "image/png": "[encoded data removed]",
      "text/plain": [
       "<Figure size 432x288 with 1 Axes>"
      ]
     },
     "metadata": {},
     "output_type": "display_data"
    }
   ],
   "source": [
    "A = system_mat(nodes, n, p_herm)\n",
    "if n == M:\n",
    "    alpha = np.linalg.solve(A, RH)\n",
    "else:\n",
    "    alpha = np.linalg.lstsq(A, RH)[0]\n",
    "print(\"α = {}\".format(alpha))\n",
    "\n",
    "approx_y = calc_apprximant(p_herm, alpha, x)\n",
    "plt.plot(x, y, x, approx_y, nodes, RH, 'ro')\n",
    "\n",
    "epsilon = np.linalg.norm(y - approx_y, np.inf)\n",
    "print(\"ε = {}\".format(epsilon))"
   ]
  },
  {
   "cell_type": "markdown",
   "metadata": {
    "slideshow": {
     "slide_type": "slide"
    }
   },
   "source": [
    "Now, what will change if we take another set of node points?"
   ]
  },
  {
   "cell_type": "code",
   "execution_count": 11,
   "metadata": {
    "slideshow": {
     "slide_type": "slide"
    }
   },
   "outputs": [
    {
     "name": "stdout",
     "output_type": "stream",
     "text": [
      "α = [ -8.17756076  69.1215116  -19.61829875  52.92933361  -4.03369459\n",
      "   6.1756528 ]\n",
      "ε_cheb = 0.8212801266161324\n"
     ]
    },
    {
     "data": {
      "image/png": "[encoded data removed]",
      "text/plain": [
       "<Figure size 432x288 with 1 Axes>"
      ]
     },
     "metadata": {},
     "output_type": "display_data"
    }
   ],
   "source": [
    "nodes = np.cos((2.0*np.arange(M) + 1)/M*0.5*np.pi)\n",
    "RH = complex_func(nodes)\n",
    "A = system_mat(nodes, n, p_herm)\n",
    "alpha = np.linalg.solve(A, RH)\n",
    "print(\"α = {}\".format(alpha))\n",
    "\n",
    "approx_y = calc_apprximant(p_herm, alpha, x)\n",
    "plt.plot(x, y, x, approx_y, nodes, RH, 'ro')\n",
    "\n",
    "epsilon_cheb = np.linalg.norm(y - approx_y, np.inf)\n",
    "print(\"ε_cheb = {}\".format(epsilon_cheb))"
   ]
  },
  {
   "cell_type": "code",
   "execution_count": 12,
   "metadata": {
    "slideshow": {
     "slide_type": "slide"
    }
   },
   "outputs": [],
   "source": [
    "# All in one. We can play with maximum polynomial power\n",
    "def plot_approx(f, n, distrib='unif', poly='cheb'):\n",
    "    def make_nodes(n, distrib='unif'):\n",
    "        return {'unif' : lambda : np.linspace(-1, 1, n),\n",
    "                'cheb' : lambda : np.cos((2.0*np.arange(n) + 1.0)/n*0.5*np.pi)}[distrib[:4].lower()]\n",
    "    \n",
    "    poly_f = {'cheb' : p_cheb, 'herm' : p_herm}[poly[:4].lower()]\n",
    "    \n",
    "    #solve\n",
    "    nodes = make_nodes(n, distrib)()\n",
    "    RH = f(nodes)\n",
    "    A = system_mat(nodes, n, p_herm)\n",
    "    alpha = np.linalg.solve(A, RH)\n",
    "    \n",
    "    # calc values\n",
    "    x = np.linspace(-1, 1, 2**10)\n",
    "    y = f(x)\n",
    "    approx_y = calc_apprximant(p_herm, alpha, x)\n",
    "    \n",
    "    #plot\n",
    "    plt.figure(figsize=(14,6.5))\n",
    "    plt.plot(x, y, x, approx_y, nodes, RH, 'ro')\n",
    "    plt.show()\n",
    "\n",
    "    # calc error\n",
    "    epsilon_cheb = np.linalg.norm(y - approx_y, np.inf)\n",
    "    print(\"ε = {}\".format(epsilon_cheb))\n",
    "    \n",
    "from ipywidgets import interact, fixed, widgets"
   ]
  },
  {
   "cell_type": "code",
   "execution_count": 13,
   "metadata": {
    "slideshow": {
     "slide_type": "slide"
    }
   },
   "outputs": [
    {
     "data": {
      "application/vnd.jupyter.widget-view+json": {
       "model_id": "bd8b9a5f088349718d84d3e8b764f255",
       "version_major": 2,
       "version_minor": 0
      },
      "text/plain": [
       "interactive(children=(IntSlider(value=4, description='# of terms (n)', max=15, min=1), ToggleButtons(descripti…"
      ]
     },
     "metadata": {},
     "output_type": "display_data"
    }
   ],
   "source": [
    "interact(plot_approx, \n",
    "         f=fixed(complex_func), \n",
    "         n=widgets.IntSlider(min=1,max=15,step=1,value=4,continuous_update=True,description='# of terms (n)'),\n",
    "         distrib=widgets.ToggleButtons(options=['Uniform', 'Chebyshev roots'],description='Points distr.'), \n",
    "         poly=widgets.ToggleButtons(options=['Chebyshev polynomials', 'Hermite polynomials'],description='Poly. type')\n",
    "        );"
   ]
  },
  {
   "cell_type": "markdown",
   "metadata": {
    "slideshow": {
     "slide_type": "slide"
    }
   },
   "source": [
    "## Random input"
   ]
  },
  {
   "cell_type": "markdown",
   "metadata": {
    "slideshow": {
     "slide_type": "slide"
    }
   },
   "source": [
    "Let input $x$ is random with known probability density function $\\rho$. \n",
    "\n",
    "We want to know statistical properties of the output\n",
    "- mean value \n",
    "- variance\n",
    "- risk estimation\n",
    "\n",
    "How to find them using polynomial expansion?"
   ]
  },
  {
   "cell_type": "markdown",
   "metadata": {
    "slideshow": {
     "slide_type": "slide"
    }
   },
   "source": [
    "Assume the function $f$ is analytical\n",
    "$$\n",
    "f(x)=\\sum_{i=0}^\\infty \\alpha_i p_i(x).\n",
    "$$\n",
    "The mean value of $f$ is\n",
    "$$\n",
    "\\mathbb E f = \\int_a^bf(\\tau)\\rho(\\tau)\\,d\\tau = \n",
    "\\sum_{i=0}^\\infty \\int_a^b\\alpha_i p_i(\\tau)\\rho(\\tau)\\,d\\tau.\n",
    "$$\n",
    "\n",
    "If the set of orthogonal polynomials $\\{p_n\\}$ have the same weight function as $\\rho$,\n",
    "and the first polynomial is constant $p_0(x)=h_0$,\n",
    "then $\\mathbb Ef=\\alpha_0h_0$. \n",
    "Usually, $h_0=1$ and we get a simple relation\n",
    "$$\n",
    "\\mathbb Ef = \\alpha_0\n",
    "$$"
   ]
  },
  {
   "cell_type": "markdown",
   "metadata": {
    "slideshow": {
     "slide_type": "slide"
    }
   },
   "source": [
    "The variance is equal to\n",
    "$$\n",
    "\\text{Var } f=\\mathbb E\\bigl(f-\\mathbb E f\\bigr)^2=\n",
    "\\int_a^b \\left(\\sum_{i=1}^\\infty\\alpha_ip_i(\\tau)\\right)^2\\rho(\\tau)\\,d\\tau ,\n",
    "$$\n",
    "note, that the summation begins with 1. Assume we can interchange the sum and the integral, then\n",
    "$$\n",
    "\\text{Var } f=\n",
    "\\sum_{i=1}^\\infty\\sum_{j=1}^\\infty\\int_a^b \\!\\!\\alpha_ip_i(\\tau)\\,\\alpha_jp_j(\\tau)\\,\\rho(\\tau)\\,d\\tau =\n",
    "\\sum_{i=1}^\\infty \\alpha_i^2h_i.\n",
    "$$\n",
    "The formula is very simple if all the coefficients $\\{h_i\\}$ are equal to 1:\n",
    "$$\n",
    "\\text{Var } f = \\sum_{i=1}^\\infty \\alpha_i^2.\n",
    "$$\n"
   ]
  },
  {
   "cell_type": "markdown",
   "metadata": {
    "slideshow": {
     "slide_type": "slide"
    }
   },
   "source": [
    "Let us check the formulas for the mean and variance by calculating them using the Monte-Carlo method."
   ]
  },
  {
   "cell_type": "markdown",
   "metadata": {
    "slideshow": {
     "slide_type": "slide"
    }
   },
   "source": [
    "### Normal distribution"
   ]
  },
  {
   "cell_type": "markdown",
   "metadata": {
    "slideshow": {
     "slide_type": "slide"
    }
   },
   "source": [
    "First, consider the case of normal distrubution of the input $x\\sim\\mathcal N(0,1)$, \n",
    "$\\rho(x)=\\frac1{\\sqrt{2\\pi}}\\exp(-x^2/2)$, \n",
    "so we take Hermite polynomials."
   ]
  },
  {
   "cell_type": "code",
   "execution_count": 14,
   "metadata": {
    "slideshow": {
     "slide_type": "slide"
    }
   },
   "outputs": [
    {
     "name": "stdout",
     "output_type": "stream",
     "text": [
      "mean = -0.16581516100035978, variance = 0.23119787259823302\n"
     ]
    }
   ],
   "source": [
    "# Scale the function a little\n",
    "scale = 5.0\n",
    "\n",
    "big_x = np.random.randn(int(1e6))\n",
    "big_y = complex_func(big_x/scale)\n",
    "mean = np.mean(big_y)\n",
    "var = np.std(big_y)**2\n",
    "print (\"mean = {}, variance = {}\".format(mean, var))"
   ]
  },
  {
   "cell_type": "code",
   "execution_count": 16,
   "metadata": {
    "slideshow": {
     "slide_type": "slide"
    }
   },
   "outputs": [
    {
     "name": "stdout",
     "output_type": "stream",
     "text": [
      "mean = -0.16556240297459568, variance = 0.2313061711624609\n"
     ]
    }
   ],
   "source": [
    "def p_herm_snorm(n):\n",
    "    \"\"\"\n",
    "    Square norm of \"math\" Hermite (w = exp(-x^2/2)/sqrt(2*pi))\n",
    "    \"\"\"\n",
    "    return np.math.factorial(n)\n",
    "\n",
    "\n",
    "n = 15\n",
    "M = n\n",
    "\n",
    "nodes = np.linspace(-scale, scale, M)\n",
    "RH = complex_func(nodes/scale)\n",
    "A = system_mat(nodes, n, p_herm)\n",
    "\n",
    "if n == M:\n",
    "    alpha = np.linalg.solve(A, RH)\n",
    "else:\n",
    "    W = np.diag(np.exp( -nodes**2*0.5))\n",
    "    alpha = np.linalg.lstsq(W.dot(A), W.dot(RH))[0]\n",
    "    \n",
    "h = np.array([p_herm_snorm(i) for i in range(len(alpha))])\n",
    "var = np.sum(alpha[1:]**2*h[1:])\n",
    "\n",
    "print (\"mean = {}, variance = {}\".format(alpha[0]*h[0], var))"
   ]
  },
  {
   "cell_type": "markdown",
   "metadata": {
    "slideshow": {
     "slide_type": "slide"
    }
   },
   "source": [
    "Note, that the precise values are\n",
    "$$\n",
    "\\mathbb E f = -0.16556230699\\ldots,\n",
    "\\qquad \n",
    "\\text{Var }f=  0.23130350880\\ldots\n",
    "$$\n",
    "so, the method based on polynomial expansion is more accurate than Monte-Carlo."
   ]
  },
  {
   "cell_type": "code",
   "execution_count": 17,
   "metadata": {
    "slideshow": {
     "slide_type": "slide"
    }
   },
   "outputs": [
    {
     "data": {
      "image/png": "[encoded data removed]",
      "text/plain": [
       "<Figure size 432x288 with 1 Axes>"
      ]
     },
     "metadata": {},
     "output_type": "display_data"
    }
   ],
   "source": [
    "ex = 2\n",
    "x = np.linspace(-scale - ex, scale + ex, 10000)\n",
    "y = complex_func(x/scale)\n",
    "approx_y = calc_apprximant(p_herm, alpha, x)\n",
    "plt.plot(x, y, x, approx_y, nodes, RH, 'ro');"
   ]
  },
  {
   "cell_type": "markdown",
   "metadata": {
    "slideshow": {
     "slide_type": "slide"
    }
   },
   "source": [
    "### Uniform distribution"
   ]
  },
  {
   "cell_type": "markdown",
   "metadata": {
    "slideshow": {
     "slide_type": "slide"
    }
   },
   "source": [
    "In tha case of uniform distribution we use Legendre polynomials\n",
    "$$\n",
    "\\int_{-1}^1p_n(x)p_m(x)\\,dx=\\frac2{2n+1}\\delta_{nm}\n",
    "$$"
   ]
  },
  {
   "cell_type": "code",
   "execution_count": 18,
   "metadata": {
    "slideshow": {
     "slide_type": "slide"
    }
   },
   "outputs": [],
   "source": [
    "from numpy.polynomial import Legendre\n",
    "def p_legendre(x, n, interval=(-1.0, 1.0)):\n",
    "    \"\"\"\n",
    "    Non-normed Legendre poly.\n",
    "    \"\"\"\n",
    "    xn = (interval[0] + interval[1] - 2.0*x)/(interval[0] - interval[1])\n",
    "    return Legendre.basis(n)(xn)\n",
    "\n",
    "def p_legendre_snorm(n, interval=(-1.0, 1.0)):\n",
    "    \"\"\"\n",
    "    RETURNS E[L_n L_n]\n",
    "    \"\"\"\n",
    "    return (interval[1] - interval[0])/(2.0*n + 1.0)\n"
   ]
  },
  {
   "cell_type": "code",
   "execution_count": 20,
   "metadata": {
    "slideshow": {
     "slide_type": "slide"
    }
   },
   "outputs": [
    {
     "name": "stdout",
     "output_type": "stream",
     "text": [
      "mean = 0.17164179416392844, variance = 0.4656157485565891\n"
     ]
    }
   ],
   "source": [
    "n = 15\n",
    "M = n\n",
    "\n",
    "nodes = np.linspace(-1, 1,  M)\n",
    "RH = complex_func(nodes)\n",
    "A = system_mat(nodes, n, p_legendre)\n",
    "\n",
    "if n == M:\n",
    "    alpha = np.linalg.solve(A, RH)\n",
    "else:\n",
    "    alpha = np.linalg.lstsq(A, RH)[0]\n",
    "    \n",
    "h = np.array([p_legendre_snorm(i) for i in range(len(alpha))])\n",
    "var = np.sum(alpha[1:]**2*h[1:])\n",
    "\n",
    "print (\"mean = {}, variance = {}\".format(alpha[0]*h[0], var))"
   ]
  },
  {
   "cell_type": "markdown",
   "metadata": {
    "slideshow": {
     "slide_type": "slide"
    }
   },
   "source": [
    "The precise values are\n",
    "$$\n",
    "\\mathbb E f = 0.1700970689187\\ldots,\n",
    "\\qquad \n",
    "\\text{Var }f= 0.4806857166498\\ldots\n",
    "$$"
   ]
  }
 ],
 "metadata": {
  "celltoolbar": "Slideshow",
  "kernelspec": {
   "display_name": "Python 3",
   "language": "python",
   "name": "python3"
  },
  "language_info": {
   "codemirror_mode": {
    "name": "ipython",
    "version": 3
   },
   "file_extension": ".py",
   "mimetype": "text/x-python",
   "name": "python",
   "nbconvert_exporter": "python",
   "pygments_lexer": "ipython3",
   "version": "3.6.5"
  },
  "varInspector": {
   "cols": {
    "lenName": 16,
    "lenType": 16,
    "lenVar": 40
   },
   "kernels_config": {
    "python": {
     "delete_cmd_postfix": "",
     "delete_cmd_prefix": "del ",
     "library": "var_list.py",
     "varRefreshCmd": "print(var_dic_list())"
    },
    "r": {
     "delete_cmd_postfix": ") ",
     "delete_cmd_prefix": "rm(",
     "library": "var_list.r",
     "varRefreshCmd": "cat(var_dic_list()) "
    }
   },
   "types_to_exclude": [
    "module",
    "function",
    "builtin_function_or_method",
    "instance",
    "_Feature"
   ],
   "window_display": false
  }
 },
 "nbformat": 4,
 "nbformat_minor": 2
}
