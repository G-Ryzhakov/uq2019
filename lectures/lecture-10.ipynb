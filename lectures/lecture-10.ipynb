{
 "cells": [
  {
   "cell_type": "markdown",
   "metadata": {
    "slideshow": {
     "slide_type": "slide"
    }
   },
   "source": [
    "# Markov Chain Monte-Carlo "
   ]
  },
  {
   "cell_type": "markdown",
   "metadata": {
    "slideshow": {
     "slide_type": "slide"
    }
   },
   "source": [
    "We already know several methods of sampling the random variable with the given distribution, but each of the methods has its limitations.\n",
    "Today we introduce methods of sampling r.v. with complex probability function using r.v. that we can sample easily.\n",
    "\n",
    "But first let us introduce a concept of Markov Chains."
   ]
  },
  {
   "cell_type": "markdown",
   "metadata": {
    "slideshow": {
     "slide_type": "slide"
    }
   },
   "source": [
    "# Markov Chains\n",
    "\n",
    "The sequence of r.v. $\\{X_n\\}$ is called (discrete-time) Markov Chain if the probability of the next state depends *only* on the previous state\n",
    "$$\n",
    "\\mathbb P[X_n=x\\mid X_1=x_1,\\,X_2=x_2,\\,\\ldots,\\,X_{n-1}=x_{n-1}]=\n",
    "\\mathbb P[X_n=x\\mid X_{n-1}=x_{n-1}].\n",
    "$$\n",
    "Generation of Markov Chain is the following process\n",
    "$$\n",
    "\\begin{align}\n",
    "X_0&\\sim p_0(x)\\\\\n",
    "X_1&\\sim q_0(x\\mid X_0)\\\\\n",
    "X_2&\\sim q_1(x\\mid X_1)\\\\\n",
    "&\\vdots\\\\\n",
    "X_N&\\sim q_{N-1}(x\\mid X_{N-1})\\\\\n",
    "\\end{align}\n",
    "$$\n",
    "If all the functions $q_i$ are the same $q_1=q_2=\\ldots=q$ then this MC is called **time-homogeneous**.\n",
    "\n",
    "----\n",
    "\n",
    "We want to find the appropriate $q$ so that the sample $\\{X_n\\}$ of the Markov Chain is the sample with the given distribution."
   ]
  },
  {
   "cell_type": "markdown",
   "metadata": {
    "slideshow": {
     "slide_type": "slide"
    }
   },
   "source": [
    "Let $p_N(x)$ if the (marginal) probability density of r.v. $X_n$ of the given MC, $X_n\\sim p_n(x)$.\n",
    "Then\n",
    "$$\n",
    "p_n(x)=\\int q(x\\mid y)p_{n-1}(y)\\,dy.\n",
    "$$\n",
    "\n",
    "A distribution $\\pi(x)$ is called *invariant* with respect to the Markov chain if\n",
    "$$\n",
    "\\pi(x)=\\int q(x\\mid y)\\pi(y)\\,dy.\n",
    "$$\n",
    "\n",
    "If we want to sample from MC with the given distribution $p$ then it must be invariant."
   ]
  },
  {
   "cell_type": "markdown",
   "metadata": {
    "slideshow": {
     "slide_type": "slide"
    }
   },
   "source": [
    "A sufficient condition for invariance is the equation of detailed balance\n",
    "$$\n",
    "p(x)q(y\\mid x)=\n",
    "p(y)q(x\\mid y)\n",
    "$$\n",
    "Indeed,\n",
    "$$\n",
    "\\int q(x\\mid y)p(y)\\,dy=\n",
    "\\int q(y\\mid x)p(x)\\,dy=\n",
    "p(x)\\int q(y\\mid x)\\,dy=\n",
    "p(x).\n",
    "$$"
   ]
  },
  {
   "cell_type": "markdown",
   "metadata": {
    "slideshow": {
     "slide_type": "slide"
    }
   },
   "source": [
    "The MC can have more than one invariant distribution.\n",
    "\n",
    "Let $\\pi$ is one of them.\n",
    "If\n",
    "$$\n",
    "\\forall p_0\\colon\\;\\; p_n\\mathop\\to_{n\\to\\infty}\\pi\n",
    "$$\n",
    "then this MC is **ergodic**.\n",
    "Such MC has only one invariant distribution. \n",
    "\n",
    "A sufficient condition for MC to be ergodic is\n",
    "$$\n",
    "\\forall x, y\\colon \\pi(x)\\neq0\\colon \\;\\; q(x\\mid y)>0.\n",
    "$$\n",
    "\n",
    "---\n",
    "\n",
    "So, if we want to sample from distribution $p$,\n",
    "it is sufficient to require that the MC is homogeneous and ergodic and $p$ is its invariant.\n",
    "Then, staring from some time moment $n$ out sample will be independent of $p_0$ and has the distribution $p$.\n"
   ]
  },
  {
   "cell_type": "markdown",
   "metadata": {
    "slideshow": {
     "slide_type": "slide"
    }
   },
   "source": [
    "# Metropolis–Hastings algorithm\n",
    "\n",
    "Let we want to sample from the probability $p$ which we know up to a constant\n",
    "$$\n",
    "p(x)=\\frac1Z\\tilde p(x).\n",
    "$$\n",
    "The step of Metropolis–Hastings algorithm is the following. \n",
    "Let us have the previous point $X_{n-1}$, then we generate the next point $X_*$ from the given conditional distribution,\n",
    "$X_*\\sim r(x\\mid X_{n-1})$. \n",
    "Then we calculate \n",
    "$$\n",
    "A(X_*,X_N)=\n",
    "\\min\\left(1,\\, \n",
    "\\frac{\\tilde p(X_*)r(X_N\\mid X_*)}\n",
    "{\\tilde p(X_N)r(X_*\\mid X_N)} \\right)\n",
    "$$\n",
    "and we add the point $X_*$ to the sample with the probability $A$ i.e. we sample a uniformly distributed r.v. $\\eta\\sim\\mathcal U(0,1)$ and if $\\eta<A$, we accept the point.\n",
    "Otherwise we just throw it away.\n",
    "\n",
    "So, we model a new Markov Chain with the following \n",
    "transition probability\n",
    "$$\n",
    "q(X_{n+1}\\mid X_n)=\n",
    "\\left\\{\n",
    "\\begin{align} \n",
    "  r(X_{n+1}\\mid X_n)A(X_{n+1}, X_n)&,& \\text{ if } X_{n+1}&\\neq X_n,\\\\\n",
    "1-r(X_{n+1}\\mid X_n)A(X_{n+1}, X_n)&,& \\text{ if } X_{n+1}&=X_n, \n",
    "\\end{align}\n",
    "\\right.\n",
    "$$"
   ]
  },
  {
   "cell_type": "markdown",
   "metadata": {
    "slideshow": {
     "slide_type": "slide"
    }
   },
   "source": [
    "Let us show that the distribution $p$ is invariant with respect to this new MC.\n",
    "We first check the detailed balance equation\n",
    "$$\n",
    "p(X_n)q(X\\mid X_n)=\n",
    "\\min\\bigl[\\underbrace{p(X_n)r(X\\mid X_n),\\,p(X)r(X_n\\mid X)}_{\\text{symmetric}}\\bigr]=\n",
    "p(X)q(X_n\\mid X).\n",
    "$$\n",
    "\n",
    "---\n",
    "\n",
    "It is sufficient to require inequality $r(x\\mid y)>0$ for ergodic."
   ]
  },
  {
   "cell_type": "markdown",
   "metadata": {
    "slideshow": {
     "slide_type": "slide"
    }
   },
   "source": [
    "## Metropolis algorithm\n",
    "\n",
    "Metropolis algorithm is a simple version of  Metropolis–Hastings algorithm in the case when \n",
    "$r$ is symmetric: $r(x\\mid y)=r(y\\mid x)$.\n",
    "In this case, the expression for $A$ is simplified\n",
    "$$\n",
    "A(X_*,X_N)=\n",
    "\\min\\left(1,\\, \n",
    "\\frac{\\tilde p(X_*)}\n",
    "{\\tilde p(X_N)} \\right).\n",
    "$$\n",
    "In other words, we generate a new point $X_*\\sim r(x\\mid X_{n-1})$ and take it, if the given probability function $\\tilde p$ is grater in this point then in the previous.\n",
    "Otherwise,\n",
    "we take  the point with probability $\\frac{\\tilde p(X_*)}\n",
    "{\\tilde p(X_N)}$."
   ]
  },
  {
   "cell_type": "code",
   "execution_count": 1,
   "metadata": {
    "slideshow": {
     "slide_type": "slide"
    }
   },
   "outputs": [],
   "source": [
    "import numpy as np\n",
    "from matplotlib import pyplot as plt\n",
    "import matplotlib\n",
    "%matplotlib inline\n",
    "from ipywidgets import interactive, interact, widgets\n",
    "\n",
    "params = {'legend.fontsize': 'x-large',\n",
    "          'figure.figsize': (10, 6),\n",
    "          'axes.labelsize': 'x-large',\n",
    "          'axes.titlesize': 'x-large',\n",
    "          'xtick.labelsize': 'x-large',\n",
    "          'ytick.labelsize': 'x-large',\n",
    "          'figure.dpi': 100}\n",
    "matplotlib.rcParams.update(params)"
   ]
  },
  {
   "cell_type": "code",
   "execution_count": 2,
   "metadata": {
    "slideshow": {
     "slide_type": "slide"
    }
   },
   "outputs": [],
   "source": [
    "def gen_gauss_rho(Sigma, mu=0.0):\n",
    "    n = len(Sigma)\n",
    "    Sigma_inv = np.linalg.inv(Sigma)\n",
    "    det = np.linalg.det(Sigma)\n",
    "    C = ((2*np.pi)**(float(n)/2)*np.sqrt(det))\n",
    "\n",
    "    def gauss(x):\n",
    "        return np.exp(-0.5*((x-mu) @ Sigma_inv @ (x-mu)))/C\n",
    "\n",
    "    return gauss\n",
    "\n",
    "\n",
    "def gen_r(sigma=1):\n",
    "    Sigma = sigma*np.eye(2)\n",
    "    rho = gen_gauss_rho(Sigma, mu=0.0)\n",
    "\n",
    "    def r(T_prev, T_new):\n",
    "        return rho(T_prev - T_new)\n",
    "\n",
    "    return r"
   ]
  },
  {
   "cell_type": "markdown",
   "metadata": {
    "slideshow": {
     "slide_type": "slide"
    }
   },
   "source": [
    "We will illustrate the Metropolis algorithm in a simple case.\n",
    "Consider 2D random variable $(\\xi_1,\\,\\xi_2 )$ with the covariation matrix\n",
    "$$\n",
    "\\Sigma=\\pmatrix{3 & 1.5 \\\\ 1.5 & 1}\n",
    "$$\n",
    "and zero means.\n",
    "\n",
    "We will use a random variable $\\eta\\sim\\mathcal N(0,\\sigma)$ as the distribution we will sample from.\n",
    "Different values of $\\sigma$ will be used."
   ]
  },
  {
   "cell_type": "code",
   "execution_count": 3,
   "metadata": {
    "slideshow": {
     "slide_type": "slide"
    }
   },
   "outputs": [],
   "source": [
    "def test_Metro(sigma_test=1.0, N=300):\n",
    "    out_d = 1.5\n",
    "    Sigma = np.array([[3, out_d], [out_d, 1]])\n",
    "    rho = gen_gauss_rho(Sigma)\n",
    "    r1 = gen_r(sigma_test)\n",
    "\n",
    "    plt.figure(figsize=(15, 9))\n",
    "    np.random.seed(42)\n",
    "    X_cur = np.random.randn(2)*sigma_test\n",
    "    plt.plot(X_cur[0], X_cur[1], 'g.', ms=10)\n",
    "    num = 0\n",
    "    # for _ in range(N):\n",
    "    while num < N:\n",
    "        X_new = np.random.randn(2)*sigma_test\n",
    "        #A = min(1.0, rho(X_new)*r(X_cur, X_new)/(rho(X_cur)*r(X_new, X_cur)))\n",
    "        A = min(1.0, rho(X_new)/rho(X_cur))\n",
    "        if np.random.rand() < A:\n",
    "            plt.plot(X_new[0], X_new[1], 'b.', ms=10)\n",
    "            plt.plot([X_cur[0], X_new[0]], [X_cur[1], X_new[1]], 'b')\n",
    "            X_cur = X_new\n",
    "            num += 1\n",
    "        else:\n",
    "            plt.plot([X_cur[0], X_new[0]], [X_cur[1], X_new[1]], 'r', lw=0.3)\n",
    "            plt.plot(X_new[0], X_new[1], 'r.', ms=1)\n",
    "\n",
    "    plt.xlim([-5, 5])\n",
    "    plt.ylim([-3, 3])\n",
    "    plt.xlabel(r'$\\xi_1$')\n",
    "    plt.ylabel(r'$\\xi_2$')\n",
    "    plt.title('Process path with rejections')\n",
    "\n",
    "\n",
    "controls = {\n",
    "    'sigma_test': widgets.FloatSlider(\n",
    "        min=0.2, max=3, step=0.01, value=1.0, continuous_update=False, description=r'$\\sigma$'),\n",
    "    'N': widgets.IntSlider(\n",
    "        min=10, max=100, step=1, value=20, continuous_update=False, description='$N$')\n",
    "}\n"
   ]
  },
  {
   "cell_type": "code",
   "execution_count": 4,
   "metadata": {
    "slideshow": {
     "slide_type": "slide"
    }
   },
   "outputs": [
    {
     "data": {
      "application/vnd.jupyter.widget-view+json": {
       "model_id": "334105ea8a724d90bb942d6b7bee0cdf",
       "version_major": 2,
       "version_minor": 0
      },
      "text/html": [
       "<p>Failed to display Jupyter Widget of type <code>interactive</code>.</p>\n",
       "<p>\n",
       "  If you're reading this message in the Jupyter Notebook or JupyterLab Notebook, it may mean\n",
       "  that the widgets JavaScript is still loading. If this message persists, it\n",
       "  likely means that the widgets JavaScript library is either not installed or\n",
       "  not enabled. See the <a href=\"https://ipywidgets.readthedocs.io/en/stable/user_install.html\">Jupyter\n",
       "  Widgets Documentation</a> for setup instructions.\n",
       "</p>\n",
       "<p>\n",
       "  If you're reading this message in another frontend (for example, a static\n",
       "  rendering on GitHub or <a href=\"https://nbviewer.jupyter.org/\">NBViewer</a>),\n",
       "  it may mean that your frontend doesn't currently support widgets.\n",
       "</p>\n"
      ],
      "text/plain": [
       "interactive(children=(FloatSlider(value=1.0, continuous_update=False, description='$\\\\sigma$', max=3.0, min=0.2, step=0.01), IntSlider(value=20, continuous_update=False, description='$N$', min=10), Output()), _dom_classes=('widget-interact',))"
      ]
     },
     "metadata": {},
     "output_type": "display_data"
    }
   ],
   "source": [
    "interact(test_Metro, **controls);"
   ]
  },
  {
   "cell_type": "markdown",
   "metadata": {
    "slideshow": {
     "slide_type": "slide"
    }
   },
   "source": [
    "We can see that large $\\sigma$ values increase number of rejections, whereas small values of $\\sigma$ lead to higher correlation of points."
   ]
  },
  {
   "cell_type": "markdown",
   "metadata": {
    "slideshow": {
     "slide_type": "slide"
    }
   },
   "source": [
    "# Gibbs Scheme\n",
    "\n",
    "Let we want to generate a sample form multivariate distribution $p(X)$,\n",
    "$X=\\{x_1,\\,x_2,\\,\\ldots,\\,x_d\\}$.\n",
    "Let we have $X_n=\\{x_1^n,\\,x_2^n,\\,\\ldots,\\,x_d^n\\}$ \n",
    "In the Gibbs Scheme we \n",
    "generate the components of the next point $X_{n+1}=\\{x_1^{n+1},\\,x_2^{n+1},\\,\\ldots,\\,x_d^{n+1}\\}$ one after another\n",
    "$$\n",
    "\\begin{align}\n",
    "x_1^{n+1}&\\sim p(x_1\\mid x_2^n,\\,x_3^n\\,\\ldots,\\,x_d^n),\\\\\n",
    "x_2^{n+1}&\\sim p(x_2\\mid x_1^{n+1}, \\, x_3^n,\\,\\ldots,\\,x_d^n),\\\\\n",
    "x_3^{n+1}&\\sim p(x_3\\mid x_1^{n+1}, \\, x_2^{n+1},\\, x_4^n,\\,\\ldots,\\,x_d^n),\\\\\n",
    "&\\vdots\\\\\n",
    "x_d^{n+1}&\\sim p(x_1\\mid x_1^{n+1},\\, x_2^{n+1},\\, x_3^{n+1}\\,\\ldots,\\,x_{d-1}^{n+1}).\n",
    "\\end{align}\n",
    "$$\n",
    "here $p(x_i\\mid X_{\\sim i})$ is marginal one-dimensional distribution of the $i^{\\text{th}}$ component \n",
    "under the condition of the remaining components.\n",
    "\n",
    "Note that on the $i^{\\text{th}}$ step we use components from all the previous steps.\n",
    "\n",
    "---\n",
    "Generating one-dimensional distribution is a much simpler task than from a multivariate one."
   ]
  },
  {
   "cell_type": "markdown",
   "metadata": {
    "slideshow": {
     "slide_type": "slide"
    }
   },
   "source": [
    "Let us prove by induction that the distribution $p(X)$ is invariant with respect to the introduced Markov chain.  \n",
    "On each step, $x_i\\sim p(x_i\\mid X_{\\sim i})$. \n",
    "By the induction hypothesis, we have $X_{\\sim i}\\sim p(X_{\\sim i})$. \n",
    "Then the joint configuration \n",
    "$$\n",
    "(x_i,X_{\\sim i})\\sim p(x_i\\mid X_{\\sim i}) p(X_{\\sim i})=p(X).\n",
    "$$\n",
    "So, $p$ is invariant with respect to one step of the process and hence it is invariant to the whole MC."
   ]
  },
  {
   "cell_type": "markdown",
   "metadata": {
    "slideshow": {
     "slide_type": "slide"
    }
   },
   "source": [
    "### Example on Gibbs Scheme\n",
    "\n",
    "We will use 2D random variable, considered above in Metropolis scheme.\n",
    "The explicit form of probability distribution of the two dependent normal random variables is \n",
    "$$\n",
    "\\rho(x_1,x_2)=C\\exp\\left(\n",
    "-\\frac12\n",
    "\\frac{x_1^2\\sigma_2^2-2x_1x_2\\sigma_{12}+x_2^2\\sigma_1^2}\n",
    "{\\sigma_1^2\\sigma_2^2-\\sigma_{12}^2}\n",
    "\\right).\n",
    "$$\n",
    "\n",
    "So, the conditional density $p(x_1\\mid x_2)$ of $x_1$ for a fixed value of $x_2$\n",
    "has the mean value $\\mu=x_2\\frac{\\sigma_{12}}{\\sigma_2^2}$ and variance $\\sigma^2=\\frac{\\sigma_1^2\\sigma_2^2-\\sigma_{12}^2}{\\sigma_2^2}$.\n",
    "\n",
    "Similarly for $x_2$.\n",
    "\n",
    "----\n",
    "\n",
    "Let us demonstrate iterations of Gibbs process for this r.v."
   ]
  },
  {
   "cell_type": "code",
   "execution_count": 5,
   "metadata": {
    "slideshow": {
     "slide_type": "slide"
    }
   },
   "outputs": [],
   "source": [
    "def cond_distrib_sample(Sigma, x2, elem=0):\n",
    "    sigma1 = Sigma[elem, elem]\n",
    "    sigma2 = Sigma[1 - elem, 1 - elem]\n",
    "    sigma12 = Sigma[0, 1]\n",
    "    mu = x2*sigma12/sigma2\n",
    "    sigma = sigma1 - (sigma12**2)/sigma2\n",
    "    return np.random.randn()*np.sqrt(sigma) + mu\n",
    "\n",
    "\n",
    "def plot_Gibbs(N=10):\n",
    "    x1 = x2 = 0.0\n",
    "    out_d = 1.5\n",
    "    Sigma = np.array([[3, out_d], [out_d, 1]])\n",
    "    for _ in range(N):\n",
    "        x1new = cond_distrib_sample(Sigma, x2, elem=0)\n",
    "        plt.plot([x1, x1new], [x2, x2], 'b', lw=.3)\n",
    "        plt.plot(x1new, x2, 'b.', ms=10)\n",
    "        x1 = x1new\n",
    "\n",
    "        x2new = cond_distrib_sample(Sigma, x1, elem=1)\n",
    "        plt.plot([x1, x1], [x2, x2new], 'b', lw=.3)\n",
    "        plt.plot(x1, x2new, 'b.', ms=10)\n",
    "        x2 = x2new\n",
    "\n",
    "    plt.xlim([-5, 5])\n",
    "    plt.ylim([-3, 3])\n",
    "    plt.xlabel(r'$\\xi_1$')\n",
    "    plt.ylabel(r'$\\xi_2$')\n",
    "    plt.title('Gibbs process path')"
   ]
  },
  {
   "cell_type": "code",
   "execution_count": 6,
   "metadata": {
    "slideshow": {
     "slide_type": "slide"
    }
   },
   "outputs": [
    {
     "data": {
      "image/png": "[encoded data removed]",
      "text/plain": [
       "<Figure size 1000x600 with 1 Axes>"
      ]
     },
     "metadata": {},
     "output_type": "display_data"
    }
   ],
   "source": [
    "plot_Gibbs(50)"
   ]
  },
  {
   "cell_type": "markdown",
   "metadata": {
    "slideshow": {
     "slide_type": "slide"
    }
   },
   "source": [
    "Let us turn to the demonstration of solving more complex problem by MCMC – parameters estimation of nonlinear model."
   ]
  },
  {
   "cell_type": "markdown",
   "metadata": {
    "slideshow": {
     "slide_type": "slide"
    }
   },
   "source": [
    "### Inverse problem example\n",
    "In the following demonstration we will approximate the coefficients of 1D nonlinear function $f(x) = \\sin(\\alpha x)\\cdot\\cos(\\beta x)$ with the use of Metropolis-Hastings algorithm. In order to do this, we will use a ```pymc``` module for MCMC routine in Python. \n",
    "* Generate $N$ points where to evaluate $f(x)$: $x = \\{x_i\\}_1^N\\sim\\mathcal{U}(-2,2)$.\n",
    "* Model with a normally distributed noise: $y = f(x) = \\sin(\\alpha x)\\cdot\\cos(\\beta x) + \\epsilon$, where $\\epsilon\\sim\\mathcal{N}(0,0.1)$.\n",
    "* Prior on model parameters: $\\alpha,\\beta\\sim\\mathcal{U}(-5,5)$."
   ]
  },
  {
   "cell_type": "markdown",
   "metadata": {
    "slideshow": {
     "slide_type": "slide"
    }
   },
   "source": [
    "Samples from the chain constructed in Metropolis-Hastings algorithm are assumed to be sampled from the \"right\" prob distribution. But there are two issues that should be addressed during the sampling:\n",
    "* At the initial samples the chain performs in a transient regime. So, the chain can be considered as ergodic only on samples with the numbers $N>N_{\\text{burn}}$. In order to archive this, we need to throw away first $N_{\\text{burn}}$ samples. This number can be estimated, say, with the plot of the trace. \n",
    "* Ideally, we need as independent samples as possible. Successive samples are strongly correleated (since the state of the chain doen't change if a move is rejected). To select less correlated samples, we need to throw samples in between (thinning). Autocorrelation fuctions of the process are used to select weakly correlated samples."
   ]
  },
  {
   "cell_type": "markdown",
   "metadata": {
    "slideshow": {
     "slide_type": "slide"
    }
   },
   "source": [
    "Brief description of the figures that are plotted below. <br>\n",
    "In tuning mode:\n",
    "* Plot of the trace for each parameter.\n",
    "* Plot of autocorrelation for each parameter as well.\n",
    "* Parameters posterior histograms.\n",
    "\n",
    "In approximation mode:\n",
    "* Plot of the model points and MCMC samples that approximate it.\n",
    "* Plot of the estimating model parameters ($\\alpha,\\beta$)."
   ]
  },
  {
   "cell_type": "markdown",
   "metadata": {
    "slideshow": {
     "slide_type": "slide"
    }
   },
   "source": [
    "Controls:\n",
    "* $N_{\\text{data}}$ – number of data points.\n",
    "* $N_{\\text{samples}}$ – number of MCMC samples.\n",
    "* $N_{\\text{burn}}$ – number of data points that will be *burn* during the transient regime.\n",
    "* Thin – this parameter defines the step size in samples selection when trying to avoid autocorrelation.\n",
    "* $\\sigma$ – parameter of MCMC model that defines the size of the steps in Metropolis-Hastings algorithm."
   ]
  },
  {
   "cell_type": "code",
   "execution_count": 7,
   "metadata": {
    "slideshow": {
     "slide_type": "slide"
    }
   },
   "outputs": [],
   "source": [
    "import scipy as sp\n",
    "import pandas as pd\n",
    "import warnings\n",
    "warnings.filterwarnings('ignore')\n",
    "from pymc.Matplot import plot\n",
    "import pymc\n",
    "\n",
    "\n",
    "def MCMC(num_of_data, num_of_samples, burn, thin, width, mode):\n",
    "    \n",
    "    np.random.seed(1)\n",
    "    \n",
    "    x_data = -2+4*np.random.rand(num_of_data)\n",
    "    y_data = np.sin(2*x_data)*np.cos(3*x_data) + 0.01*np.random.randn(num_of_data)\n",
    "\n",
    "    alpha = pymc.Uniform('alpha', lower=-5, upper=5)\n",
    "    beta = pymc.Uniform('beta', lower=-5, upper=5)\n",
    "\n",
    "    x = pymc.Normal('x', mu=0, tau=1., value=x_data, observed=True)\n",
    "\n",
    "    @pymc.deterministic(plot=False)\n",
    "    def sincos(x=x, alpha=alpha, beta=beta):\n",
    "        return np.sin(alpha*x)*np.cos(beta*x)\n",
    "\n",
    "    y = pymc.Normal('output', mu=sincos, tau=width, value=y_data, observed=True)\n",
    "\n",
    "    model = pymc.Model([x, y, alpha, beta])\n",
    "    mcmc = pymc.MCMC(model)\n",
    "    mcmc.sample(iter=num_of_samples, burn=burn, thin=thin)\n",
    "    if mode == 'Tuning':\n",
    "        plot(mcmc)\n",
    "    else:\n",
    "        f,(ax1,ax2) = plt.subplots(1,2,figsize=(18,9))\n",
    "        x_pl = np.arange(-2,2,0.01)\n",
    "        alpha = mcmc.trace('alpha')[::thin+5]\n",
    "        beta = mcmc.trace('beta')[::thin+5]\n",
    "        for i in range(len(alpha)):\n",
    "            ax1.plot(x_pl, np.sin(alpha[i]*x_pl)*np.cos(beta[i]*x_pl), 'r', alpha=0.1)\n",
    "        ax1.scatter(x_data,y_data) \n",
    "        ax1.set_xlabel(r'$x$')\n",
    "        ax1.set_ylabel(r'$f(x)$')\n",
    "        ax2.plot(alpha,beta)\n",
    "        ax2.set_xlabel(r'$\\alpha$')\n",
    "        ax2.set_ylabel(r'$\\beta$')\n",
    "        plt.show()\n",
    "    \n",
    "controls = {\n",
    "    'num_of_data': widgets.IntSlider(min=10, max=1000, step=5, value=100, continuous_update=False, description=r'$N_{\\text{data}}$'),\n",
    "    'num_of_samples': widgets.IntSlider(min=8000, max=100000, step=1000, value=10000, continuous_update=False, description=r'$N_{\\text{samples}}$'),\n",
    "    'burn': widgets.IntSlider(min=0, max=10000, step=100, value=0, continuous_update=False, description=r'$N_{\\text{burn}}$'),\n",
    "    'thin': widgets.IntSlider(min=1, max=100, step=5, value=2, continuous_update=False, description=r'Thin'),\n",
    "    'width': widgets.FloatSlider(min=0.1, max=1.5, step=0.1, value=1., continuous_update=False, description=r'$\\sigma$'),\n",
    "    'mode': widgets.RadioButtons(options=['Tuning', 'Approximation'], value='Tuning', description='Mode:', disabled=False)\n",
    "}        "
   ]
  },
  {
   "cell_type": "code",
   "execution_count": 8,
   "metadata": {
    "scrolled": false,
    "slideshow": {
     "slide_type": "slide"
    }
   },
   "outputs": [
    {
     "data": {
      "application/vnd.jupyter.widget-view+json": {
       "model_id": "1d91edffd04243b4bab5eb745edacfea",
       "version_major": 2,
       "version_minor": 0
      },
      "text/html": [
       "<p>Failed to display Jupyter Widget of type <code>interactive</code>.</p>\n",
       "<p>\n",
       "  If you're reading this message in the Jupyter Notebook or JupyterLab Notebook, it may mean\n",
       "  that the widgets JavaScript is still loading. If this message persists, it\n",
       "  likely means that the widgets JavaScript library is either not installed or\n",
       "  not enabled. See the <a href=\"https://ipywidgets.readthedocs.io/en/stable/user_install.html\">Jupyter\n",
       "  Widgets Documentation</a> for setup instructions.\n",
       "</p>\n",
       "<p>\n",
       "  If you're reading this message in another frontend (for example, a static\n",
       "  rendering on GitHub or <a href=\"https://nbviewer.jupyter.org/\">NBViewer</a>),\n",
       "  it may mean that your frontend doesn't currently support widgets.\n",
       "</p>\n"
      ],
      "text/plain": [
       "interactive(children=(IntSlider(value=100, continuous_update=False, description='$N_{\\\\text{data}}$', max=1000, min=10, step=5), IntSlider(value=10000, continuous_update=False, description='$N_{\\\\text{samples}}$', max=100000, min=8000, step=1000), IntSlider(value=0, continuous_update=False, description='$N_{\\\\text{burn}}$', max=10000, step=100), IntSlider(value=2, continuous_update=False, description='Thin', min=1, step=5), FloatSlider(value=1.0, continuous_update=False, description='$\\\\sigma$', max=1.5, min=0.1), RadioButtons(description='Mode:', options=('Tuning', 'Approximation'), value='Tuning'), Output()), _dom_classes=('widget-interact',))"
      ]
     },
     "metadata": {},
     "output_type": "display_data"
    }
   ],
   "source": [
    "interact(MCMC,**controls);"
   ]
  }
 ],
 "metadata": {
  "celltoolbar": "Slideshow",
  "kernelspec": {
   "display_name": "Python 3",
   "language": "python",
   "name": "python3"
  },
  "language_info": {
   "codemirror_mode": {
    "name": "ipython",
    "version": 3
   },
   "file_extension": ".py",
   "mimetype": "text/x-python",
   "name": "python",
   "nbconvert_exporter": "python",
   "pygments_lexer": "ipython3",
   "version": "3.6.5"
  },
  "varInspector": {
   "cols": {
    "lenName": 16,
    "lenType": 16,
    "lenVar": 40
   },
   "kernels_config": {
    "python": {
     "delete_cmd_postfix": "",
     "delete_cmd_prefix": "del ",
     "library": "var_list.py",
     "varRefreshCmd": "print(var_dic_list())"
    },
    "r": {
     "delete_cmd_postfix": ") ",
     "delete_cmd_prefix": "rm(",
     "library": "var_list.r",
     "varRefreshCmd": "cat(var_dic_list()) "
    }
   },
   "types_to_exclude": [
    "module",
    "function",
    "builtin_function_or_method",
    "instance",
    "_Feature"
   ],
   "window_display": false
  }
 },
 "nbformat": 4,
 "nbformat_minor": 2
}
