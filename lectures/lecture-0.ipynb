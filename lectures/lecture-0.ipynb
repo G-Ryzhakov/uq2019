{
 "cells": [
  {
   "cell_type": "code",
   "execution_count": 1,
   "metadata": {
    "slideshow": {
     "slide_type": "skip"
    }
   },
   "outputs": [
    {
     "data": {
      "text/plain": [
       "{'scroll': True,\n",
       " 'start_slideshow_at': 'selected',\n",
       " 'theme': 'sky',\n",
       " 'transition': 'zoom'}"
      ]
     },
     "execution_count": 1,
     "metadata": {},
     "output_type": "execute_result"
    }
   ],
   "source": [
    "from traitlets.config.manager import BaseJSONConfigManager\n",
    "#path = \"/home/damian/miniconda3/envs/rise_latest/etc/jupyter/nbconfig\"\n",
    "cm = BaseJSONConfigManager()\n",
    "cm.update('livereveal', {\n",
    "              'theme': 'sky',\n",
    "              'transition': 'zoom',\n",
    "              'start_slideshow_at': 'selected',\n",
    "              'scroll': True\n",
    "})"
   ]
  },
  {
   "cell_type": "markdown",
   "metadata": {
    "slideshow": {
     "slide_type": "slide"
    }
   },
   "source": [
    "# Uncertainty Quantification, Skoltech,  Spring 2019,  general course information."
   ]
  },
  {
   "cell_type": "markdown",
   "metadata": {
    "slideshow": {
     "slide_type": "slide"
    }
   },
   "source": [
    "## Lecture access\n",
    "\n",
    "Lectures can be downloaded and viewed on github: https://github.com/oseledets/uq2018\n",
    "\n",
    "They can also be viewed online using *nbviewer*: http://nbviewer.jupyter.org/github/oseledets/uq2018/tree/master/ or *mybinder* https://mybinder.org/v2/gh/oseledets/uq2018/master?filepath=table_of_contents.ipynb .\n",
    "\n",
    "The most comfortable way to navigate through course materials is to use ```table_of_contents.ipynb``` file in repo."
   ]
  },
  {
   "cell_type": "markdown",
   "metadata": {
    "slideshow": {
     "slide_type": "slide"
    }
   },
   "source": [
    "## Team\n",
    "Course instructors: Ivan Oseledets, Maxim Panov, Gleb Ryzhakov\n",
    "\n",
    "TA:\n",
    "- Gleb Karpov\n"
   ]
  },
  {
   "cell_type": "markdown",
   "metadata": {
    "slideshow": {
     "slide_type": "slide"
    }
   },
   "source": [
    "## How do we grade\n",
    "- **50%** homework. Includes 3 problem sets with coding in Python and theoretical problems.\n",
    "- **50%** term project."
   ]
  },
  {
   "cell_type": "markdown",
   "metadata": {
    "slideshow": {
     "slide_type": "slide"
    }
   },
   "source": [
    "## Problem sets\n",
    "\n",
    "1. Homework is distributed in **Jupyter notebooks**\n",
    "\n",
    "2. Problem sets contain both **theoretical** and **programming** tasks"
   ]
  },
  {
   "cell_type": "markdown",
   "metadata": {
    "slideshow": {
     "slide_type": "slide"
    }
   },
   "source": [
    "## Problem set rules\n",
    "\n",
    "1. Solutions must be submitted on **Canvas** before the deadline\n",
    "2. Deadlines are <font color='red'> strict </font>. After the deadline Canvas submission is **closed**\n",
    "3. However in this case you can get only **50%** of the maximum for **programming** tasks (no score for theoretical tasks)\n",
    "4. Deadline for every problem set will be announced at the moment of publishing\n",
    "5. Problem sets will be checked for **plagiarism**. If noticed, the score will be divided by a number of similar works"
   ]
  },
  {
   "cell_type": "markdown",
   "metadata": {
    "slideshow": {
     "slide_type": "slide"
    }
   },
   "source": [
    "## Attendance\n",
    "\n",
    "Attendance is not strict, but **do not disappoint us**."
   ]
  },
  {
   "cell_type": "markdown",
   "metadata": {
    "slideshow": {
     "slide_type": "slide"
    }
   },
   "source": [
    "## Grades\n",
    "\n",
    "1. A: 86 - 100 %\n",
    "2. B: 70 - 85 %\n",
    "3. C: 50 - 70 %\n",
    "4. D: 30 - 50 %\n",
    "5. E: 15 - 30 %\n",
    "6. F: 0 - 15 %"
   ]
  },
  {
   "cell_type": "markdown",
   "metadata": {
    "slideshow": {
     "slide_type": "slide"
    }
   },
   "source": [
    "## Course description\n",
    "\n",
    "- Uncertainty Quantification (UQ) marks a new approach to mathematical modelling and design\n",
    "- Instead of a single quantity, the probability distribution of the output parameter has to be studied\n",
    "- Also, many other associated tasks that include risk estimation, variance analysis, design of experiments, active learning and others are considered\n",
    "- New computational tools that include the approximation of multivariate functions and computation of multidimensional integrals are required"
   ]
  },
  {
   "cell_type": "markdown",
   "metadata": {
    "slideshow": {
     "slide_type": "slide"
    }
   },
   "source": [
    "## Learning outcomes\n",
    "\n",
    "\n",
    "- Know modern methods for UQ\n",
    "- Use modern software packages to solve UQ tasks\n",
    "- Find which methods are appropriate for the particular application\n",
    "- Be able to develop new algorithms for UQ\n"
   ]
  },
  {
   "cell_type": "markdown",
   "metadata": {
    "slideshow": {
     "slide_type": "slide"
    }
   },
   "source": [
    "## Python 3\n",
    "- We will use Python 3 ecosystem for programming. For those who do not familiar with Python, there will be a Python tutorial practice session this week."
   ]
  },
  {
   "cell_type": "markdown",
   "metadata": {
    "slideshow": {
     "slide_type": "slide"
    }
   },
   "source": [
    "## (Approximate) Syllabus\n",
    "- **Week 1:** Introduction to uncertainty quantification. UQ propagation using sampling method\n",
    "\n",
    "- **Week 2:** UQ propagation: variance reduction and Latin-Hypercube designs, Optimal designs. Polynomial chaos methods.\n",
    "\n",
    "- **Week 3:** Priors on function spaces. Gaussian Process regression. The Karhunen–Loève expansion. Active Learning and Bayesian Optimization.\n",
    "\n",
    "- **Week 4:** UQ for Neural Networks. Global and local sensitivity analysis, Sobol' indices, PC-based Sobol' indices.\n",
    "\n",
    "- **Week 5:** Global and local sensitivity analysis, Sobol' indices, PC-based Sobol' indices Stochastic Galerkin Method, Stochastic Collocation Method.\n",
    "\n",
    "- **Week 6:** Advanced topics: Markov Chain Monte Carlo methods for UQ. High-dimensional uncertainty quantification."
   ]
  },
  {
   "cell_type": "markdown",
   "metadata": {
    "slideshow": {
     "slide_type": "slide"
    }
   },
   "source": [
    "## Materials\n",
    "\n",
    "**Our materials:**\n",
    "- Lecture notes are avaliable online\n",
    "\n",
    "\n",
    "**Uncertainty Quantification books:**\n",
    "- Dongbin Xiu _''Numerical Methods for Stochastic Computations: A Spectral Methods Approach''_\n",
    "- Søren Asmussen and Peter W. Glynn _''Stochastic Simulation: Analysis and Algorithms''_\n",
    "- Olivier P. Le Maître and Omar M. Knio _''Spectral Methods for Uncertainty Quantification: With Applications to Computational Fluid Dynamics''_\n",
    "-  Lorenz Biegler, et al. _''Large Scale Inverse Problems and Quantification of Uncertainty''_"
   ]
  },
  {
   "cell_type": "code",
   "execution_count": 2,
   "metadata": {
    "ExecuteTime": {
     "end_time": "2017-10-29T07:07:42.079650Z",
     "start_time": "2017-10-29T07:07:42.051649Z"
    }
   },
   "outputs": [
    {
     "data": {
      "text/html": [
       "<link href='http://fonts.googleapis.com/css?family=Fenix' rel='stylesheet' type='text/css'>\n",
       "<link href='http://fonts.googleapis.com/css?family=Alegreya+Sans:100,300,400,500,700,800,900,100italic,300italic,400italic,500italic,700italic,800italic,900italic' rel='stylesheet' type='text/css'>\n",
       "<link href='http://fonts.googleapis.com/css?family=Source+Code+Pro:300,400' rel='stylesheet' type='text/css'>\n",
       "<style>\n",
       "    @font-face {\n",
       "        font-family: \"Computer Modern\";\n",
       "        src: url('http://mirrors.ctan.org/fonts/cm-unicode/fonts/otf/cmunss.otf');\n",
       "    }\n",
       "    div.cell{\n",
       "        /*width:80%;*/\n",
       "        /*margin-left:auto !important;\n",
       "        margin-right:auto;*/\n",
       "    }\n",
       "    h1 {\n",
       "        font-family: 'Alegreya Sans', sans-serif;\n",
       "    }\n",
       "    h2 {\n",
       "        font-family: 'Fenix', serif;\n",
       "    }\n",
       "    h3{\n",
       "\t\tfont-family: 'Fenix', serif;\n",
       "        margin-top:12px;\n",
       "        margin-bottom: 3px;\n",
       "       }\n",
       "\th4{\n",
       "\t\tfont-family: 'Fenix', serif;\n",
       "       }\n",
       "    h5 {\n",
       "        font-family: 'Alegreya Sans', sans-serif;\n",
       "    }\t   \n",
       "    div.text_cell_render{\n",
       "        font-family: 'Alegreya Sans',Computer Modern, \"Helvetica Neue\", Arial, Helvetica, Geneva, sans-serif;\n",
       "        line-height: 1.2;\n",
       "        font-size: 120%;\n",
       "        /*width:70%;*/\n",
       "        /*margin-left:auto;*/\n",
       "        margin-right:auto;\n",
       "    }\n",
       "    .CodeMirror{\n",
       "            font-family: \"Source Code Pro\";\n",
       "\t\t\tfont-size: 90%;\n",
       "    }\n",
       "/*    .prompt{\n",
       "        display: None;\n",
       "    }*/\n",
       "    .text_cell_render h1 {\n",
       "        font-weight: 200;\n",
       "        font-size: 50pt;\n",
       "\t\tline-height: 110%;\n",
       "        color:#CD2305;\n",
       "        margin-bottom: 0.5em;\n",
       "        margin-top: 0.5em;\n",
       "        display: block;\n",
       "    }\t\n",
       "    .text_cell_render h5 {\n",
       "        font-weight: 300;\n",
       "        font-size: 16pt;\n",
       "        color: #CD2305;\n",
       "        font-style: italic;\n",
       "        margin-bottom: .5em;\n",
       "        margin-top: 0.5em;\n",
       "        display: block;\n",
       "    }\n",
       "    \n",
       "    li {\n",
       "        line-height: 110%;\n",
       "    }\n",
       "    .warning{\n",
       "        color: rgb( 240, 20, 20 )\n",
       "        }  \n",
       "\n",
       "</style>\n",
       "\n",
       "<script>\n",
       "    MathJax.Hub.Config({\n",
       "                        TeX: {\n",
       "                           extensions: [\"AMSmath.js\"]\n",
       "                           },\n",
       "                tex2jax: {\n",
       "                    inlineMath: [ ['$','$'], [\"\\\\(\",\"\\\\)\"] ],\n",
       "                    displayMath: [ ['$$','$$'], [\"\\\\[\",\"\\\\]\"] ]\n",
       "                },\n",
       "                displayAlign: 'center', // Change this to 'center' to center equations.\n",
       "                \"HTML-CSS\": {\n",
       "                    styles: {'.MathJax_Display': {\"margin\": 4}}\n",
       "                }\n",
       "        });\n",
       "</script>\n"
      ],
      "text/plain": [
       "<IPython.core.display.HTML object>"
      ]
     },
     "execution_count": 2,
     "metadata": {},
     "output_type": "execute_result"
    }
   ],
   "source": [
    "from IPython.core.display import HTML\n",
    "def css_styling():\n",
    "    styles = open(\"./styles/custom.css\", \"r\").read()\n",
    "    return HTML(styles)\n",
    "css_styling()"
   ]
  }
 ],
 "metadata": {
  "anaconda-cloud": {},
  "celltoolbar": "Slideshow",
  "kernelspec": {
   "display_name": "Python 3",
   "language": "python",
   "name": "python3"
  },
  "language_info": {
   "codemirror_mode": {
    "name": "ipython",
    "version": 3
   },
   "file_extension": ".py",
   "mimetype": "text/x-python",
   "name": "python",
   "nbconvert_exporter": "python",
   "pygments_lexer": "ipython3",
   "version": "3.6.5"
  },
  "latex_envs": {
   "LaTeX_envs_menu_present": true,
   "bibliofile": "biblio.bib",
   "cite_by": "apalike",
   "current_citInitial": 1,
   "eqLabelWithNumbers": true,
   "eqNumInitial": 1,
   "labels_anchors": false,
   "latex_user_defs": false,
   "report_style_numbering": false,
   "user_envs_cfg": false
  },
  "nav_menu": {},
  "toc": {
   "navigate_menu": true,
   "number_sections": false,
   "sideBar": true,
   "threshold": 6,
   "toc_cell": false,
   "toc_section_display": "block",
   "toc_window_display": false
  }
 },
 "nbformat": 4,
 "nbformat_minor": 1
}
